{
 "cells": [
  {
   "cell_type": "markdown",
   "metadata": {},
   "source": [
    "# This dataset is from Kaggle, it has data about houses to rent in Brazil\n",
    "\n",
    "# Este dataset é retirado do Kaggle, contém dados sobre casas para alugar no Brasil"
   ]
  },
  {
   "cell_type": "code",
   "execution_count": 44,
   "metadata": {},
   "outputs": [],
   "source": [
    "#Data: https://www.kaggle.com/rubenssjr/brasilian-houses-to-rent?select=houses_to_rent_v2.csv\n",
    "import pandas as pd\n",
    "import numpy as np\n",
    "import matplotlib.pyplot as plt\n",
    "import seaborn as sns\n",
    "sns.set(style='darkgrid')\n",
    "%matplotlib inline"
   ]
  },
  {
   "cell_type": "code",
   "execution_count": 45,
   "metadata": {},
   "outputs": [],
   "source": [
    "df = pd.read_csv('houses_to_rent_v2.csv')"
   ]
  },
  {
   "cell_type": "code",
   "execution_count": 46,
   "metadata": {},
   "outputs": [],
   "source": [
    "#Changing the $ sign as it would not be displayed correctly on GitHub\n",
    "#Mudando o sinal de $, porque não seria exibido corretamente no GitHub\n",
    "df = df.rename(columns={'hoa (R$)':'hoa (Reais)','rent amount (R$)':'rent amount (Reais)',\n",
    "                   'property tax (R$)':'property tax (Reais)',\n",
    "                   'fire insurance (R$)':'fire insurance (Reais)',\n",
    "                   'total (R$)':'total (Reais)'})"
   ]
  },
  {
   "cell_type": "code",
   "execution_count": 47,
   "metadata": {},
   "outputs": [],
   "source": [
    "#Renaming values in animal column\n",
    "#Renomeando valores na coluna animal \n",
    "df['animal'] = df['animal'].replace({'acept':'accepted','not acept':'not accepted'})"
   ]
  },
  {
   "cell_type": "code",
   "execution_count": 48,
   "metadata": {},
   "outputs": [
    {
     "data": {
      "text/html": [
       "<div>\n",
       "<style scoped>\n",
       "    .dataframe tbody tr th:only-of-type {\n",
       "        vertical-align: middle;\n",
       "    }\n",
       "\n",
       "    .dataframe tbody tr th {\n",
       "        vertical-align: top;\n",
       "    }\n",
       "\n",
       "    .dataframe thead th {\n",
       "        text-align: right;\n",
       "    }\n",
       "</style>\n",
       "<table border=\"1\" class=\"dataframe\">\n",
       "  <thead>\n",
       "    <tr style=\"text-align: right;\">\n",
       "      <th></th>\n",
       "      <th>city</th>\n",
       "      <th>area</th>\n",
       "      <th>rooms</th>\n",
       "      <th>bathroom</th>\n",
       "      <th>parking spaces</th>\n",
       "      <th>floor</th>\n",
       "      <th>animal</th>\n",
       "      <th>furniture</th>\n",
       "      <th>hoa (Reais)</th>\n",
       "      <th>rent amount (Reais)</th>\n",
       "      <th>property tax (Reais)</th>\n",
       "      <th>fire insurance (Reais)</th>\n",
       "      <th>total (Reais)</th>\n",
       "    </tr>\n",
       "  </thead>\n",
       "  <tbody>\n",
       "    <tr>\n",
       "      <th>0</th>\n",
       "      <td>São Paulo</td>\n",
       "      <td>70</td>\n",
       "      <td>2</td>\n",
       "      <td>1</td>\n",
       "      <td>1</td>\n",
       "      <td>7</td>\n",
       "      <td>accepted</td>\n",
       "      <td>furnished</td>\n",
       "      <td>2065</td>\n",
       "      <td>3300</td>\n",
       "      <td>211</td>\n",
       "      <td>42</td>\n",
       "      <td>5618</td>\n",
       "    </tr>\n",
       "    <tr>\n",
       "      <th>1</th>\n",
       "      <td>São Paulo</td>\n",
       "      <td>320</td>\n",
       "      <td>4</td>\n",
       "      <td>4</td>\n",
       "      <td>0</td>\n",
       "      <td>20</td>\n",
       "      <td>accepted</td>\n",
       "      <td>not furnished</td>\n",
       "      <td>1200</td>\n",
       "      <td>4960</td>\n",
       "      <td>1750</td>\n",
       "      <td>63</td>\n",
       "      <td>7973</td>\n",
       "    </tr>\n",
       "    <tr>\n",
       "      <th>2</th>\n",
       "      <td>Porto Alegre</td>\n",
       "      <td>80</td>\n",
       "      <td>1</td>\n",
       "      <td>1</td>\n",
       "      <td>1</td>\n",
       "      <td>6</td>\n",
       "      <td>accepted</td>\n",
       "      <td>not furnished</td>\n",
       "      <td>1000</td>\n",
       "      <td>2800</td>\n",
       "      <td>0</td>\n",
       "      <td>41</td>\n",
       "      <td>3841</td>\n",
       "    </tr>\n",
       "    <tr>\n",
       "      <th>3</th>\n",
       "      <td>Porto Alegre</td>\n",
       "      <td>51</td>\n",
       "      <td>2</td>\n",
       "      <td>1</td>\n",
       "      <td>0</td>\n",
       "      <td>2</td>\n",
       "      <td>accepted</td>\n",
       "      <td>not furnished</td>\n",
       "      <td>270</td>\n",
       "      <td>1112</td>\n",
       "      <td>22</td>\n",
       "      <td>17</td>\n",
       "      <td>1421</td>\n",
       "    </tr>\n",
       "    <tr>\n",
       "      <th>4</th>\n",
       "      <td>São Paulo</td>\n",
       "      <td>25</td>\n",
       "      <td>1</td>\n",
       "      <td>1</td>\n",
       "      <td>0</td>\n",
       "      <td>1</td>\n",
       "      <td>not accepted</td>\n",
       "      <td>not furnished</td>\n",
       "      <td>0</td>\n",
       "      <td>800</td>\n",
       "      <td>25</td>\n",
       "      <td>11</td>\n",
       "      <td>836</td>\n",
       "    </tr>\n",
       "  </tbody>\n",
       "</table>\n",
       "</div>"
      ],
      "text/plain": [
       "           city  area  rooms  bathroom  parking spaces floor        animal  \\\n",
       "0     São Paulo    70      2         1               1     7      accepted   \n",
       "1     São Paulo   320      4         4               0    20      accepted   \n",
       "2  Porto Alegre    80      1         1               1     6      accepted   \n",
       "3  Porto Alegre    51      2         1               0     2      accepted   \n",
       "4     São Paulo    25      1         1               0     1  not accepted   \n",
       "\n",
       "       furniture  hoa (Reais)  rent amount (Reais)  property tax (Reais)  \\\n",
       "0      furnished         2065                 3300                   211   \n",
       "1  not furnished         1200                 4960                  1750   \n",
       "2  not furnished         1000                 2800                     0   \n",
       "3  not furnished          270                 1112                    22   \n",
       "4  not furnished            0                  800                    25   \n",
       "\n",
       "   fire insurance (Reais)  total (Reais)  \n",
       "0                      42           5618  \n",
       "1                      63           7973  \n",
       "2                      41           3841  \n",
       "3                      17           1421  \n",
       "4                      11            836  "
      ]
     },
     "execution_count": 48,
     "metadata": {},
     "output_type": "execute_result"
    }
   ],
   "source": [
    "# Show top 5 rows of data\n",
    "# Mostrar as 5 primeiras linhas\n",
    "df.head()"
   ]
  },
  {
   "cell_type": "code",
   "execution_count": 49,
   "metadata": {},
   "outputs": [
    {
     "name": "stdout",
     "output_type": "stream",
     "text": [
      "<class 'pandas.core.frame.DataFrame'>\n",
      "RangeIndex: 10692 entries, 0 to 10691\n",
      "Data columns (total 13 columns):\n",
      " #   Column                  Non-Null Count  Dtype \n",
      "---  ------                  --------------  ----- \n",
      " 0   city                    10692 non-null  object\n",
      " 1   area                    10692 non-null  int64 \n",
      " 2   rooms                   10692 non-null  int64 \n",
      " 3   bathroom                10692 non-null  int64 \n",
      " 4   parking spaces          10692 non-null  int64 \n",
      " 5   floor                   10692 non-null  object\n",
      " 6   animal                  10692 non-null  object\n",
      " 7   furniture               10692 non-null  object\n",
      " 8   hoa (Reais)             10692 non-null  int64 \n",
      " 9   rent amount (Reais)     10692 non-null  int64 \n",
      " 10  property tax (Reais)    10692 non-null  int64 \n",
      " 11  fire insurance (Reais)  10692 non-null  int64 \n",
      " 12  total (Reais)           10692 non-null  int64 \n",
      "dtypes: int64(9), object(4)\n",
      "memory usage: 1.1+ MB\n"
     ]
    }
   ],
   "source": [
    "df.info()"
   ]
  },
  {
   "cell_type": "code",
   "execution_count": 50,
   "metadata": {},
   "outputs": [
    {
     "data": {
      "text/html": [
       "<div>\n",
       "<style scoped>\n",
       "    .dataframe tbody tr th:only-of-type {\n",
       "        vertical-align: middle;\n",
       "    }\n",
       "\n",
       "    .dataframe tbody tr th {\n",
       "        vertical-align: top;\n",
       "    }\n",
       "\n",
       "    .dataframe thead th {\n",
       "        text-align: right;\n",
       "    }\n",
       "</style>\n",
       "<table border=\"1\" class=\"dataframe\">\n",
       "  <thead>\n",
       "    <tr style=\"text-align: right;\">\n",
       "      <th></th>\n",
       "      <th>area</th>\n",
       "      <th>rooms</th>\n",
       "      <th>bathroom</th>\n",
       "      <th>parking spaces</th>\n",
       "      <th>hoa (Reais)</th>\n",
       "      <th>rent amount (Reais)</th>\n",
       "      <th>property tax (Reais)</th>\n",
       "      <th>fire insurance (Reais)</th>\n",
       "      <th>total (Reais)</th>\n",
       "    </tr>\n",
       "  </thead>\n",
       "  <tbody>\n",
       "    <tr>\n",
       "      <th>count</th>\n",
       "      <td>10692.000000</td>\n",
       "      <td>10692.000000</td>\n",
       "      <td>10692.000000</td>\n",
       "      <td>10692.000000</td>\n",
       "      <td>1.069200e+04</td>\n",
       "      <td>10692.000000</td>\n",
       "      <td>10692.000000</td>\n",
       "      <td>10692.000000</td>\n",
       "      <td>1.069200e+04</td>\n",
       "    </tr>\n",
       "    <tr>\n",
       "      <th>mean</th>\n",
       "      <td>149.217920</td>\n",
       "      <td>2.506079</td>\n",
       "      <td>2.236813</td>\n",
       "      <td>1.609147</td>\n",
       "      <td>1.174022e+03</td>\n",
       "      <td>3896.247194</td>\n",
       "      <td>366.704358</td>\n",
       "      <td>53.300879</td>\n",
       "      <td>5.490487e+03</td>\n",
       "    </tr>\n",
       "    <tr>\n",
       "      <th>std</th>\n",
       "      <td>537.016942</td>\n",
       "      <td>1.171266</td>\n",
       "      <td>1.407198</td>\n",
       "      <td>1.589521</td>\n",
       "      <td>1.559231e+04</td>\n",
       "      <td>3408.545518</td>\n",
       "      <td>3107.832321</td>\n",
       "      <td>47.768031</td>\n",
       "      <td>1.648473e+04</td>\n",
       "    </tr>\n",
       "    <tr>\n",
       "      <th>min</th>\n",
       "      <td>11.000000</td>\n",
       "      <td>1.000000</td>\n",
       "      <td>1.000000</td>\n",
       "      <td>0.000000</td>\n",
       "      <td>0.000000e+00</td>\n",
       "      <td>450.000000</td>\n",
       "      <td>0.000000</td>\n",
       "      <td>3.000000</td>\n",
       "      <td>4.990000e+02</td>\n",
       "    </tr>\n",
       "    <tr>\n",
       "      <th>25%</th>\n",
       "      <td>56.000000</td>\n",
       "      <td>2.000000</td>\n",
       "      <td>1.000000</td>\n",
       "      <td>0.000000</td>\n",
       "      <td>1.700000e+02</td>\n",
       "      <td>1530.000000</td>\n",
       "      <td>38.000000</td>\n",
       "      <td>21.000000</td>\n",
       "      <td>2.061750e+03</td>\n",
       "    </tr>\n",
       "    <tr>\n",
       "      <th>50%</th>\n",
       "      <td>90.000000</td>\n",
       "      <td>2.000000</td>\n",
       "      <td>2.000000</td>\n",
       "      <td>1.000000</td>\n",
       "      <td>5.600000e+02</td>\n",
       "      <td>2661.000000</td>\n",
       "      <td>125.000000</td>\n",
       "      <td>36.000000</td>\n",
       "      <td>3.581500e+03</td>\n",
       "    </tr>\n",
       "    <tr>\n",
       "      <th>75%</th>\n",
       "      <td>182.000000</td>\n",
       "      <td>3.000000</td>\n",
       "      <td>3.000000</td>\n",
       "      <td>2.000000</td>\n",
       "      <td>1.237500e+03</td>\n",
       "      <td>5000.000000</td>\n",
       "      <td>375.000000</td>\n",
       "      <td>68.000000</td>\n",
       "      <td>6.768000e+03</td>\n",
       "    </tr>\n",
       "    <tr>\n",
       "      <th>max</th>\n",
       "      <td>46335.000000</td>\n",
       "      <td>13.000000</td>\n",
       "      <td>10.000000</td>\n",
       "      <td>12.000000</td>\n",
       "      <td>1.117000e+06</td>\n",
       "      <td>45000.000000</td>\n",
       "      <td>313700.000000</td>\n",
       "      <td>677.000000</td>\n",
       "      <td>1.120000e+06</td>\n",
       "    </tr>\n",
       "  </tbody>\n",
       "</table>\n",
       "</div>"
      ],
      "text/plain": [
       "               area         rooms      bathroom  parking spaces   hoa (Reais)  \\\n",
       "count  10692.000000  10692.000000  10692.000000    10692.000000  1.069200e+04   \n",
       "mean     149.217920      2.506079      2.236813        1.609147  1.174022e+03   \n",
       "std      537.016942      1.171266      1.407198        1.589521  1.559231e+04   \n",
       "min       11.000000      1.000000      1.000000        0.000000  0.000000e+00   \n",
       "25%       56.000000      2.000000      1.000000        0.000000  1.700000e+02   \n",
       "50%       90.000000      2.000000      2.000000        1.000000  5.600000e+02   \n",
       "75%      182.000000      3.000000      3.000000        2.000000  1.237500e+03   \n",
       "max    46335.000000     13.000000     10.000000       12.000000  1.117000e+06   \n",
       "\n",
       "       rent amount (Reais)  property tax (Reais)  fire insurance (Reais)  \\\n",
       "count         10692.000000          10692.000000            10692.000000   \n",
       "mean           3896.247194            366.704358               53.300879   \n",
       "std            3408.545518           3107.832321               47.768031   \n",
       "min             450.000000              0.000000                3.000000   \n",
       "25%            1530.000000             38.000000               21.000000   \n",
       "50%            2661.000000            125.000000               36.000000   \n",
       "75%            5000.000000            375.000000               68.000000   \n",
       "max           45000.000000         313700.000000              677.000000   \n",
       "\n",
       "       total (Reais)  \n",
       "count   1.069200e+04  \n",
       "mean    5.490487e+03  \n",
       "std     1.648473e+04  \n",
       "min     4.990000e+02  \n",
       "25%     2.061750e+03  \n",
       "50%     3.581500e+03  \n",
       "75%     6.768000e+03  \n",
       "max     1.120000e+06  "
      ]
     },
     "execution_count": 50,
     "metadata": {},
     "output_type": "execute_result"
    }
   ],
   "source": [
    "df.describe()"
   ]
  },
  {
   "cell_type": "markdown",
   "metadata": {},
   "source": [
    "# Here we notice some that we have some extreme values, especially in area, hoa, property tax, and total. #\n",
    "Podemos observer que temos alguns valores extremos, especialmente nas colunas area, hoa, property tax e total."
   ]
  },
  {
   "cell_type": "code",
   "execution_count": 51,
   "metadata": {},
   "outputs": [
    {
     "data": {
      "text/plain": [
       "<seaborn.axisgrid.PairGrid at 0x2454e342348>"
      ]
     },
     "execution_count": 51,
     "metadata": {},
     "output_type": "execute_result"
    },
    {
     "data": {
      "image/png": "[encoded data removed]",
      "text/plain": [
       "<Figure size 900x900 with 30 Axes>"
      ]
     },
     "metadata": {
      "needs_background": "light"
     },
     "output_type": "display_data"
    }
   ],
   "source": [
    "sns.pairplot(df[['area','hoa (Reais)','rent amount (Reais)','property tax (Reais)','total (Reais)']])"
   ]
  },
  {
   "cell_type": "markdown",
   "metadata": {},
   "source": [
    "By looking at the graphs, we can see some outliers, so let's investigate one by one.\n",
    "\n",
    "Observando os gráficos, podemos ver alguns outliers, vamos investigar."
   ]
  },
  {
   "cell_type": "markdown",
   "metadata": {},
   "source": [
    "### Area column ###"
   ]
  },
  {
   "cell_type": "code",
   "execution_count": 52,
   "metadata": {},
   "outputs": [
    {
     "data": {
      "text/plain": [
       "2397    46335\n",
       "5915    24606\n",
       "9241    12732\n",
       "5129     2000\n",
       "8790     2000\n",
       "654      1600\n",
       "4813     1600\n",
       "3559     1100\n",
       "2423     1020\n",
       "640      1000\n",
       "Name: area, dtype: int64"
      ]
     },
     "execution_count": 52,
     "metadata": {},
     "output_type": "execute_result"
    }
   ],
   "source": [
    "# Let's start with the top 10 area rows\n",
    "# Começamos pelo top 10 da coluna area\n",
    "df['area'].nlargest(10)"
   ]
  },
  {
   "cell_type": "code",
   "execution_count": 53,
   "metadata": {},
   "outputs": [
    {
     "data": {
      "text/plain": [
       "<matplotlib.axes._subplots.AxesSubplot at 0x2454ff95388>"
      ]
     },
     "execution_count": 53,
     "metadata": {},
     "output_type": "execute_result"
    },
    {
     "data": {
      "image/png": "[encoded data removed]",
      "text/plain": [
       "<Figure size 432x288 with 1 Axes>"
      ]
     },
     "metadata": {
      "needs_background": "light"
     },
     "output_type": "display_data"
    }
   ],
   "source": [
    "sns.distplot(df['area'],bins =20)"
   ]
  },
  {
   "cell_type": "markdown",
   "metadata": {},
   "source": [
    "The top 3 values are at least 6 times higher than the rest of the dataset.\n",
    "A new dataset without these values will be created.\n",
    "\n",
    "Os 3 primeiros valores são pelo menos 6 vezes maior que o resto dos dados.\n",
    "Um novo dataset será criado sem esses valores."
   ]
  },
  {
   "cell_type": "code",
   "execution_count": 54,
   "metadata": {},
   "outputs": [
    {
     "data": {
      "text/plain": [
       "5129    2000\n",
       "8790    2000\n",
       "654     1600\n",
       "4813    1600\n",
       "3559    1100\n",
       "2423    1020\n",
       "640     1000\n",
       "1250    1000\n",
       "3052    1000\n",
       "6615    1000\n",
       "Name: area, dtype: int64"
      ]
     },
     "execution_count": 54,
     "metadata": {},
     "output_type": "execute_result"
    }
   ],
   "source": [
    "df_updated = df[df['area']<3000]\n",
    "df_updated['area'].nlargest(10)"
   ]
  },
  {
   "cell_type": "code",
   "execution_count": 55,
   "metadata": {},
   "outputs": [
    {
     "data": {
      "text/plain": [
       "<matplotlib.axes._subplots.AxesSubplot at 0x24550409e48>"
      ]
     },
     "execution_count": 55,
     "metadata": {},
     "output_type": "execute_result"
    },
    {
     "data": {
      "image/png": "[encoded data removed]",
      "text/plain": [
       "<Figure size 432x288 with 1 Axes>"
      ]
     },
     "metadata": {
      "needs_background": "light"
     },
     "output_type": "display_data"
    }
   ],
   "source": [
    "sns.distplot(df_updated['area'])\n",
    "#It looks much better now\n",
    "#Parece muito melhor agora"
   ]
  },
  {
   "cell_type": "markdown",
   "metadata": {},
   "source": [
    "### HOA (Home Owners Association) Column ###\n",
    "### Condominio ###"
   ]
  },
  {
   "cell_type": "code",
   "execution_count": 56,
   "metadata": {},
   "outputs": [
    {
     "data": {
      "text/plain": [
       "255     1117000\n",
       "6979    1117000\n",
       "6230     220000\n",
       "2859     200000\n",
       "2928      81150\n",
       "1444      32000\n",
       "1213      15000\n",
       "415       14130\n",
       "5293      14000\n",
       "974       10000\n",
       "Name: hoa (Reais), dtype: int64"
      ]
     },
     "execution_count": 56,
     "metadata": {},
     "output_type": "execute_result"
    }
   ],
   "source": [
    "# Now, we do the same with the HOA values\n",
    "# Agora, faremos o mesmo com HOA (Condomínio)\n",
    "df_updated['hoa (Reais)'].nlargest(10)"
   ]
  },
  {
   "cell_type": "code",
   "execution_count": 57,
   "metadata": {},
   "outputs": [
    {
     "data": {
      "text/plain": [
       "<matplotlib.axes._subplots.AxesSubplot at 0x245504ea488>"
      ]
     },
     "execution_count": 57,
     "metadata": {},
     "output_type": "execute_result"
    },
    {
     "data": {
      "image/png": "[encoded data removed]",
      "text/plain": [
       "<Figure size 432x288 with 1 Axes>"
      ]
     },
     "metadata": {
      "needs_background": "light"
     },
     "output_type": "display_data"
    }
   ],
   "source": [
    "sns.distplot(df_updated['hoa (Reais)'])"
   ]
  },
  {
   "cell_type": "markdown",
   "metadata": {},
   "source": [
    "The first 5,6 values are a little higher than the usual, there might be something wrong with the data, let's investigate them.\n",
    "\n",
    "Os 5,6 primeiros valores estão um pouco maiores que o resto, provavelmente tem algo errado, vamos investigar."
   ]
  },
  {
   "cell_type": "code",
   "execution_count": 58,
   "metadata": {},
   "outputs": [
    {
     "data": {
      "text/html": [
       "<div>\n",
       "<style scoped>\n",
       "    .dataframe tbody tr th:only-of-type {\n",
       "        vertical-align: middle;\n",
       "    }\n",
       "\n",
       "    .dataframe tbody tr th {\n",
       "        vertical-align: top;\n",
       "    }\n",
       "\n",
       "    .dataframe thead th {\n",
       "        text-align: right;\n",
       "    }\n",
       "</style>\n",
       "<table border=\"1\" class=\"dataframe\">\n",
       "  <thead>\n",
       "    <tr style=\"text-align: right;\">\n",
       "      <th></th>\n",
       "      <th>city</th>\n",
       "      <th>area</th>\n",
       "      <th>rooms</th>\n",
       "      <th>bathroom</th>\n",
       "      <th>parking spaces</th>\n",
       "      <th>floor</th>\n",
       "      <th>animal</th>\n",
       "      <th>furniture</th>\n",
       "      <th>hoa (Reais)</th>\n",
       "      <th>rent amount (Reais)</th>\n",
       "      <th>property tax (Reais)</th>\n",
       "      <th>fire insurance (Reais)</th>\n",
       "      <th>total (Reais)</th>\n",
       "    </tr>\n",
       "  </thead>\n",
       "  <tbody>\n",
       "    <tr>\n",
       "      <th>255</th>\n",
       "      <td>Belo Horizonte</td>\n",
       "      <td>155</td>\n",
       "      <td>1</td>\n",
       "      <td>4</td>\n",
       "      <td>0</td>\n",
       "      <td>4</td>\n",
       "      <td>not accepted</td>\n",
       "      <td>not furnished</td>\n",
       "      <td>1117000</td>\n",
       "      <td>2790</td>\n",
       "      <td>64</td>\n",
       "      <td>38</td>\n",
       "      <td>1120000</td>\n",
       "    </tr>\n",
       "    <tr>\n",
       "      <th>6979</th>\n",
       "      <td>Belo Horizonte</td>\n",
       "      <td>155</td>\n",
       "      <td>1</td>\n",
       "      <td>4</td>\n",
       "      <td>0</td>\n",
       "      <td>4</td>\n",
       "      <td>not accepted</td>\n",
       "      <td>not furnished</td>\n",
       "      <td>1117000</td>\n",
       "      <td>2790</td>\n",
       "      <td>64</td>\n",
       "      <td>38</td>\n",
       "      <td>1120000</td>\n",
       "    </tr>\n",
       "    <tr>\n",
       "      <th>6230</th>\n",
       "      <td>São Paulo</td>\n",
       "      <td>340</td>\n",
       "      <td>5</td>\n",
       "      <td>4</td>\n",
       "      <td>2</td>\n",
       "      <td>7</td>\n",
       "      <td>accepted</td>\n",
       "      <td>not furnished</td>\n",
       "      <td>220000</td>\n",
       "      <td>12000</td>\n",
       "      <td>1000</td>\n",
       "      <td>153</td>\n",
       "      <td>233200</td>\n",
       "    </tr>\n",
       "    <tr>\n",
       "      <th>2859</th>\n",
       "      <td>São Paulo</td>\n",
       "      <td>285</td>\n",
       "      <td>4</td>\n",
       "      <td>5</td>\n",
       "      <td>4</td>\n",
       "      <td>6</td>\n",
       "      <td>accepted</td>\n",
       "      <td>furnished</td>\n",
       "      <td>200000</td>\n",
       "      <td>20000</td>\n",
       "      <td>1834</td>\n",
       "      <td>254</td>\n",
       "      <td>222100</td>\n",
       "    </tr>\n",
       "    <tr>\n",
       "      <th>2928</th>\n",
       "      <td>Rio de Janeiro</td>\n",
       "      <td>35</td>\n",
       "      <td>1</td>\n",
       "      <td>1</td>\n",
       "      <td>0</td>\n",
       "      <td>1</td>\n",
       "      <td>accepted</td>\n",
       "      <td>furnished</td>\n",
       "      <td>81150</td>\n",
       "      <td>4500</td>\n",
       "      <td>9900</td>\n",
       "      <td>58</td>\n",
       "      <td>95610</td>\n",
       "    </tr>\n",
       "    <tr>\n",
       "      <th>1444</th>\n",
       "      <td>Porto Alegre</td>\n",
       "      <td>42</td>\n",
       "      <td>1</td>\n",
       "      <td>1</td>\n",
       "      <td>0</td>\n",
       "      <td>10</td>\n",
       "      <td>accepted</td>\n",
       "      <td>not furnished</td>\n",
       "      <td>32000</td>\n",
       "      <td>700</td>\n",
       "      <td>40</td>\n",
       "      <td>11</td>\n",
       "      <td>32750</td>\n",
       "    </tr>\n",
       "    <tr>\n",
       "      <th>1213</th>\n",
       "      <td>São Paulo</td>\n",
       "      <td>850</td>\n",
       "      <td>6</td>\n",
       "      <td>7</td>\n",
       "      <td>4</td>\n",
       "      <td>-</td>\n",
       "      <td>not accepted</td>\n",
       "      <td>not furnished</td>\n",
       "      <td>15000</td>\n",
       "      <td>13000</td>\n",
       "      <td>2465</td>\n",
       "      <td>196</td>\n",
       "      <td>30660</td>\n",
       "    </tr>\n",
       "    <tr>\n",
       "      <th>415</th>\n",
       "      <td>São Paulo</td>\n",
       "      <td>488</td>\n",
       "      <td>4</td>\n",
       "      <td>3</td>\n",
       "      <td>3</td>\n",
       "      <td>-</td>\n",
       "      <td>accepted</td>\n",
       "      <td>not furnished</td>\n",
       "      <td>14130</td>\n",
       "      <td>6400</td>\n",
       "      <td>1214</td>\n",
       "      <td>82</td>\n",
       "      <td>21820</td>\n",
       "    </tr>\n",
       "    <tr>\n",
       "      <th>5293</th>\n",
       "      <td>São Paulo</td>\n",
       "      <td>850</td>\n",
       "      <td>5</td>\n",
       "      <td>7</td>\n",
       "      <td>8</td>\n",
       "      <td>1</td>\n",
       "      <td>not accepted</td>\n",
       "      <td>not furnished</td>\n",
       "      <td>14000</td>\n",
       "      <td>4000</td>\n",
       "      <td>0</td>\n",
       "      <td>51</td>\n",
       "      <td>18050</td>\n",
       "    </tr>\n",
       "    <tr>\n",
       "      <th>974</th>\n",
       "      <td>São Paulo</td>\n",
       "      <td>600</td>\n",
       "      <td>6</td>\n",
       "      <td>7</td>\n",
       "      <td>4</td>\n",
       "      <td>-</td>\n",
       "      <td>accepted</td>\n",
       "      <td>furnished</td>\n",
       "      <td>10000</td>\n",
       "      <td>15000</td>\n",
       "      <td>84</td>\n",
       "      <td>226</td>\n",
       "      <td>25310</td>\n",
       "    </tr>\n",
       "    <tr>\n",
       "      <th>8858</th>\n",
       "      <td>São Paulo</td>\n",
       "      <td>800</td>\n",
       "      <td>4</td>\n",
       "      <td>7</td>\n",
       "      <td>8</td>\n",
       "      <td>-</td>\n",
       "      <td>not accepted</td>\n",
       "      <td>not furnished</td>\n",
       "      <td>10000</td>\n",
       "      <td>8500</td>\n",
       "      <td>209</td>\n",
       "      <td>128</td>\n",
       "      <td>18840</td>\n",
       "    </tr>\n",
       "    <tr>\n",
       "      <th>547</th>\n",
       "      <td>São Paulo</td>\n",
       "      <td>580</td>\n",
       "      <td>5</td>\n",
       "      <td>5</td>\n",
       "      <td>4</td>\n",
       "      <td>4</td>\n",
       "      <td>accepted</td>\n",
       "      <td>not furnished</td>\n",
       "      <td>9900</td>\n",
       "      <td>15000</td>\n",
       "      <td>2200</td>\n",
       "      <td>191</td>\n",
       "      <td>27290</td>\n",
       "    </tr>\n",
       "    <tr>\n",
       "      <th>7020</th>\n",
       "      <td>São Paulo</td>\n",
       "      <td>224</td>\n",
       "      <td>4</td>\n",
       "      <td>5</td>\n",
       "      <td>3</td>\n",
       "      <td>12</td>\n",
       "      <td>accepted</td>\n",
       "      <td>not furnished</td>\n",
       "      <td>9500</td>\n",
       "      <td>9500</td>\n",
       "      <td>1650</td>\n",
       "      <td>121</td>\n",
       "      <td>20770</td>\n",
       "    </tr>\n",
       "  </tbody>\n",
       "</table>\n",
       "</div>"
      ],
      "text/plain": [
       "                city  area  rooms  bathroom  parking spaces floor  \\\n",
       "255   Belo Horizonte   155      1         4               0     4   \n",
       "6979  Belo Horizonte   155      1         4               0     4   \n",
       "6230       São Paulo   340      5         4               2     7   \n",
       "2859       São Paulo   285      4         5               4     6   \n",
       "2928  Rio de Janeiro    35      1         1               0     1   \n",
       "1444    Porto Alegre    42      1         1               0    10   \n",
       "1213       São Paulo   850      6         7               4     -   \n",
       "415        São Paulo   488      4         3               3     -   \n",
       "5293       São Paulo   850      5         7               8     1   \n",
       "974        São Paulo   600      6         7               4     -   \n",
       "8858       São Paulo   800      4         7               8     -   \n",
       "547        São Paulo   580      5         5               4     4   \n",
       "7020       São Paulo   224      4         5               3    12   \n",
       "\n",
       "            animal      furniture  hoa (Reais)  rent amount (Reais)  \\\n",
       "255   not accepted  not furnished      1117000                 2790   \n",
       "6979  not accepted  not furnished      1117000                 2790   \n",
       "6230      accepted  not furnished       220000                12000   \n",
       "2859      accepted      furnished       200000                20000   \n",
       "2928      accepted      furnished        81150                 4500   \n",
       "1444      accepted  not furnished        32000                  700   \n",
       "1213  not accepted  not furnished        15000                13000   \n",
       "415       accepted  not furnished        14130                 6400   \n",
       "5293  not accepted  not furnished        14000                 4000   \n",
       "974       accepted      furnished        10000                15000   \n",
       "8858  not accepted  not furnished        10000                 8500   \n",
       "547       accepted  not furnished         9900                15000   \n",
       "7020      accepted  not furnished         9500                 9500   \n",
       "\n",
       "      property tax (Reais)  fire insurance (Reais)  total (Reais)  \n",
       "255                     64                      38        1120000  \n",
       "6979                    64                      38        1120000  \n",
       "6230                  1000                     153         233200  \n",
       "2859                  1834                     254         222100  \n",
       "2928                  9900                      58          95610  \n",
       "1444                    40                      11          32750  \n",
       "1213                  2465                     196          30660  \n",
       "415                   1214                      82          21820  \n",
       "5293                     0                      51          18050  \n",
       "974                     84                     226          25310  \n",
       "8858                   209                     128          18840  \n",
       "547                   2200                     191          27290  \n",
       "7020                  1650                     121          20770  "
      ]
     },
     "execution_count": 58,
     "metadata": {},
     "output_type": "execute_result"
    }
   ],
   "source": [
    "df_updated[df_updated['hoa (Reais)']>9000].sort_values(by=['hoa (Reais)'],ascending = False)\n",
    "\n",
    "# We will delete the first 6 rows as they do not seem to be correct."
   ]
  },
  {
   "cell_type": "code",
   "execution_count": 59,
   "metadata": {},
   "outputs": [
    {
     "data": {
      "text/plain": [
       "1213    15000\n",
       "415     14130\n",
       "5293    14000\n",
       "974     10000\n",
       "8858    10000\n",
       "547      9900\n",
       "7020     9500\n",
       "7679     9000\n",
       "1862     8600\n",
       "1072     8500\n",
       "Name: hoa (Reais), dtype: int64"
      ]
     },
     "execution_count": 59,
     "metadata": {},
     "output_type": "execute_result"
    }
   ],
   "source": [
    "# We will delete the first 6 rows\n",
    "# Deletaremos as 6 primeiras linhas\n",
    "df_updated=df_updated[df_updated['hoa (Reais)']<30000]\n",
    "df_updated['hoa (Reais)'].nlargest(10)"
   ]
  },
  {
   "cell_type": "code",
   "execution_count": 60,
   "metadata": {},
   "outputs": [
    {
     "data": {
      "text/plain": [
       "<matplotlib.axes._subplots.AxesSubplot at 0x245505d5148>"
      ]
     },
     "execution_count": 60,
     "metadata": {},
     "output_type": "execute_result"
    },
    {
     "data": {
      "image/png": "[encoded data removed]",
      "text/plain": [
       "<Figure size 432x288 with 1 Axes>"
      ]
     },
     "metadata": {
      "needs_background": "light"
     },
     "output_type": "display_data"
    }
   ],
   "source": [
    "sns.distplot(df_updated['hoa (Reais)'])"
   ]
  },
  {
   "cell_type": "markdown",
   "metadata": {},
   "source": [
    "### Rent Amount Column ###\n",
    "### Aluguel ###"
   ]
  },
  {
   "cell_type": "code",
   "execution_count": 61,
   "metadata": {},
   "outputs": [
    {
     "data": {
      "text/plain": [
       "2182    45000\n",
       "7748    30000\n",
       "6947    25000\n",
       "2619    24000\n",
       "157     20000\n",
       "1253    20000\n",
       "1743    20000\n",
       "5525    20000\n",
       "6185    19500\n",
       "2521    19000\n",
       "Name: rent amount (Reais), dtype: int64"
      ]
     },
     "execution_count": 61,
     "metadata": {},
     "output_type": "execute_result"
    }
   ],
   "source": [
    "df_updated['rent amount (Reais)'].nlargest(10)"
   ]
  },
  {
   "cell_type": "code",
   "execution_count": 62,
   "metadata": {},
   "outputs": [
    {
     "data": {
      "text/html": [
       "<div>\n",
       "<style scoped>\n",
       "    .dataframe tbody tr th:only-of-type {\n",
       "        vertical-align: middle;\n",
       "    }\n",
       "\n",
       "    .dataframe tbody tr th {\n",
       "        vertical-align: top;\n",
       "    }\n",
       "\n",
       "    .dataframe thead th {\n",
       "        text-align: right;\n",
       "    }\n",
       "</style>\n",
       "<table border=\"1\" class=\"dataframe\">\n",
       "  <thead>\n",
       "    <tr style=\"text-align: right;\">\n",
       "      <th></th>\n",
       "      <th>city</th>\n",
       "      <th>area</th>\n",
       "      <th>rooms</th>\n",
       "      <th>bathroom</th>\n",
       "      <th>parking spaces</th>\n",
       "      <th>floor</th>\n",
       "      <th>animal</th>\n",
       "      <th>furniture</th>\n",
       "      <th>hoa (Reais)</th>\n",
       "      <th>rent amount (Reais)</th>\n",
       "      <th>property tax (Reais)</th>\n",
       "      <th>fire insurance (Reais)</th>\n",
       "      <th>total (Reais)</th>\n",
       "    </tr>\n",
       "  </thead>\n",
       "  <tbody>\n",
       "    <tr>\n",
       "      <th>2182</th>\n",
       "      <td>São Paulo</td>\n",
       "      <td>700</td>\n",
       "      <td>4</td>\n",
       "      <td>7</td>\n",
       "      <td>8</td>\n",
       "      <td>-</td>\n",
       "      <td>accepted</td>\n",
       "      <td>not furnished</td>\n",
       "      <td>0</td>\n",
       "      <td>45000</td>\n",
       "      <td>8750</td>\n",
       "      <td>677</td>\n",
       "      <td>54430</td>\n",
       "    </tr>\n",
       "    <tr>\n",
       "      <th>7748</th>\n",
       "      <td>São Paulo</td>\n",
       "      <td>350</td>\n",
       "      <td>3</td>\n",
       "      <td>3</td>\n",
       "      <td>3</td>\n",
       "      <td>-</td>\n",
       "      <td>accepted</td>\n",
       "      <td>not furnished</td>\n",
       "      <td>0</td>\n",
       "      <td>30000</td>\n",
       "      <td>560</td>\n",
       "      <td>451</td>\n",
       "      <td>31010</td>\n",
       "    </tr>\n",
       "    <tr>\n",
       "      <th>6947</th>\n",
       "      <td>São Paulo</td>\n",
       "      <td>486</td>\n",
       "      <td>8</td>\n",
       "      <td>4</td>\n",
       "      <td>6</td>\n",
       "      <td>-</td>\n",
       "      <td>accepted</td>\n",
       "      <td>not furnished</td>\n",
       "      <td>0</td>\n",
       "      <td>25000</td>\n",
       "      <td>2200</td>\n",
       "      <td>376</td>\n",
       "      <td>27580</td>\n",
       "    </tr>\n",
       "    <tr>\n",
       "      <th>2619</th>\n",
       "      <td>São Paulo</td>\n",
       "      <td>80</td>\n",
       "      <td>2</td>\n",
       "      <td>1</td>\n",
       "      <td>1</td>\n",
       "      <td>1</td>\n",
       "      <td>accepted</td>\n",
       "      <td>not furnished</td>\n",
       "      <td>875</td>\n",
       "      <td>24000</td>\n",
       "      <td>0</td>\n",
       "      <td>305</td>\n",
       "      <td>25180</td>\n",
       "    </tr>\n",
       "    <tr>\n",
       "      <th>157</th>\n",
       "      <td>São Paulo</td>\n",
       "      <td>660</td>\n",
       "      <td>4</td>\n",
       "      <td>5</td>\n",
       "      <td>5</td>\n",
       "      <td>12</td>\n",
       "      <td>accepted</td>\n",
       "      <td>furnished</td>\n",
       "      <td>4800</td>\n",
       "      <td>20000</td>\n",
       "      <td>1750</td>\n",
       "      <td>254</td>\n",
       "      <td>26800</td>\n",
       "    </tr>\n",
       "    <tr>\n",
       "      <th>1253</th>\n",
       "      <td>São Paulo</td>\n",
       "      <td>315</td>\n",
       "      <td>3</td>\n",
       "      <td>5</td>\n",
       "      <td>2</td>\n",
       "      <td>14</td>\n",
       "      <td>not accepted</td>\n",
       "      <td>not furnished</td>\n",
       "      <td>4300</td>\n",
       "      <td>20000</td>\n",
       "      <td>959</td>\n",
       "      <td>254</td>\n",
       "      <td>25510</td>\n",
       "    </tr>\n",
       "    <tr>\n",
       "      <th>1743</th>\n",
       "      <td>São Paulo</td>\n",
       "      <td>410</td>\n",
       "      <td>4</td>\n",
       "      <td>5</td>\n",
       "      <td>5</td>\n",
       "      <td>1</td>\n",
       "      <td>accepted</td>\n",
       "      <td>not furnished</td>\n",
       "      <td>0</td>\n",
       "      <td>20000</td>\n",
       "      <td>0</td>\n",
       "      <td>254</td>\n",
       "      <td>20250</td>\n",
       "    </tr>\n",
       "    <tr>\n",
       "      <th>5525</th>\n",
       "      <td>São Paulo</td>\n",
       "      <td>900</td>\n",
       "      <td>3</td>\n",
       "      <td>4</td>\n",
       "      <td>8</td>\n",
       "      <td>-</td>\n",
       "      <td>accepted</td>\n",
       "      <td>not furnished</td>\n",
       "      <td>0</td>\n",
       "      <td>20000</td>\n",
       "      <td>3813</td>\n",
       "      <td>301</td>\n",
       "      <td>24110</td>\n",
       "    </tr>\n",
       "  </tbody>\n",
       "</table>\n",
       "</div>"
      ],
      "text/plain": [
       "           city  area  rooms  bathroom  parking spaces floor        animal  \\\n",
       "2182  São Paulo   700      4         7               8     -      accepted   \n",
       "7748  São Paulo   350      3         3               3     -      accepted   \n",
       "6947  São Paulo   486      8         4               6     -      accepted   \n",
       "2619  São Paulo    80      2         1               1     1      accepted   \n",
       "157   São Paulo   660      4         5               5    12      accepted   \n",
       "1253  São Paulo   315      3         5               2    14  not accepted   \n",
       "1743  São Paulo   410      4         5               5     1      accepted   \n",
       "5525  São Paulo   900      3         4               8     -      accepted   \n",
       "\n",
       "          furniture  hoa (Reais)  rent amount (Reais)  property tax (Reais)  \\\n",
       "2182  not furnished            0                45000                  8750   \n",
       "7748  not furnished            0                30000                   560   \n",
       "6947  not furnished            0                25000                  2200   \n",
       "2619  not furnished          875                24000                     0   \n",
       "157       furnished         4800                20000                  1750   \n",
       "1253  not furnished         4300                20000                   959   \n",
       "1743  not furnished            0                20000                     0   \n",
       "5525  not furnished            0                20000                  3813   \n",
       "\n",
       "      fire insurance (Reais)  total (Reais)  \n",
       "2182                     677          54430  \n",
       "7748                     451          31010  \n",
       "6947                     376          27580  \n",
       "2619                     305          25180  \n",
       "157                      254          26800  \n",
       "1253                     254          25510  \n",
       "1743                     254          20250  \n",
       "5525                     301          24110  "
      ]
     },
     "execution_count": 62,
     "metadata": {},
     "output_type": "execute_result"
    }
   ],
   "source": [
    "df_updated[df_updated['rent amount (Reais)']>19500].sort_values(by='rent amount (Reais)',ascending =False)\n",
    "\n",
    "#This column seem to be normal, so no changes will be made\n",
    "#Essa coluna parece está normal, não faremos mudanças"
   ]
  },
  {
   "cell_type": "code",
   "execution_count": 63,
   "metadata": {},
   "outputs": [
    {
     "data": {
      "text/plain": [
       "<matplotlib.axes._subplots.AxesSubplot at 0x245506ec088>"
      ]
     },
     "execution_count": 63,
     "metadata": {},
     "output_type": "execute_result"
    },
    {
     "data": {
      "image/png": "[encoded data removed]",
      "text/plain": [
       "<Figure size 432x288 with 1 Axes>"
      ]
     },
     "metadata": {
      "needs_background": "light"
     },
     "output_type": "display_data"
    }
   ],
   "source": [
    "sns.distplot(df_updated['rent amount (Reais)'],bins =15)"
   ]
  },
  {
   "cell_type": "markdown",
   "metadata": {},
   "source": [
    "### Property Tax ###\n",
    "### IPTU ###"
   ]
  },
  {
   "cell_type": "code",
   "execution_count": 64,
   "metadata": {},
   "outputs": [
    {
     "data": {
      "text/plain": [
       "6645     313700\n",
       "6243      28120\n",
       "1699      21880\n",
       "10172     12500\n",
       "5331      10830\n",
       "19         9500\n",
       "7674       9500\n",
       "2182       8750\n",
       "8187       8750\n",
       "7679       5917\n",
       "Name: property tax (Reais), dtype: int64"
      ]
     },
     "execution_count": 64,
     "metadata": {},
     "output_type": "execute_result"
    }
   ],
   "source": [
    "df_updated['property tax (Reais)'].nlargest(10)\n",
    "# The first 3 rows seem to be a little more than the rest.\n",
    "# As 3 primeiras linhas estão um pouco acima do resto."
   ]
  },
  {
   "cell_type": "code",
   "execution_count": 65,
   "metadata": {},
   "outputs": [
    {
     "data": {
      "text/html": [
       "<div>\n",
       "<style scoped>\n",
       "    .dataframe tbody tr th:only-of-type {\n",
       "        vertical-align: middle;\n",
       "    }\n",
       "\n",
       "    .dataframe tbody tr th {\n",
       "        vertical-align: top;\n",
       "    }\n",
       "\n",
       "    .dataframe thead th {\n",
       "        text-align: right;\n",
       "    }\n",
       "</style>\n",
       "<table border=\"1\" class=\"dataframe\">\n",
       "  <thead>\n",
       "    <tr style=\"text-align: right;\">\n",
       "      <th></th>\n",
       "      <th>city</th>\n",
       "      <th>area</th>\n",
       "      <th>rooms</th>\n",
       "      <th>bathroom</th>\n",
       "      <th>parking spaces</th>\n",
       "      <th>floor</th>\n",
       "      <th>animal</th>\n",
       "      <th>furniture</th>\n",
       "      <th>hoa (Reais)</th>\n",
       "      <th>rent amount (Reais)</th>\n",
       "      <th>property tax (Reais)</th>\n",
       "      <th>fire insurance (Reais)</th>\n",
       "      <th>total (Reais)</th>\n",
       "    </tr>\n",
       "  </thead>\n",
       "  <tbody>\n",
       "    <tr>\n",
       "      <th>6645</th>\n",
       "      <td>São Paulo</td>\n",
       "      <td>42</td>\n",
       "      <td>1</td>\n",
       "      <td>2</td>\n",
       "      <td>1</td>\n",
       "      <td>6</td>\n",
       "      <td>not accepted</td>\n",
       "      <td>not furnished</td>\n",
       "      <td>690</td>\n",
       "      <td>2500</td>\n",
       "      <td>313700</td>\n",
       "      <td>32</td>\n",
       "      <td>316900</td>\n",
       "    </tr>\n",
       "    <tr>\n",
       "      <th>6243</th>\n",
       "      <td>Rio de Janeiro</td>\n",
       "      <td>95</td>\n",
       "      <td>2</td>\n",
       "      <td>2</td>\n",
       "      <td>1</td>\n",
       "      <td>11</td>\n",
       "      <td>accepted</td>\n",
       "      <td>not furnished</td>\n",
       "      <td>1024</td>\n",
       "      <td>3000</td>\n",
       "      <td>28120</td>\n",
       "      <td>39</td>\n",
       "      <td>32180</td>\n",
       "    </tr>\n",
       "    <tr>\n",
       "      <th>1699</th>\n",
       "      <td>São Paulo</td>\n",
       "      <td>700</td>\n",
       "      <td>4</td>\n",
       "      <td>4</td>\n",
       "      <td>4</td>\n",
       "      <td>-</td>\n",
       "      <td>accepted</td>\n",
       "      <td>not furnished</td>\n",
       "      <td>0</td>\n",
       "      <td>10000</td>\n",
       "      <td>21880</td>\n",
       "      <td>151</td>\n",
       "      <td>32040</td>\n",
       "    </tr>\n",
       "    <tr>\n",
       "      <th>10172</th>\n",
       "      <td>Belo Horizonte</td>\n",
       "      <td>260</td>\n",
       "      <td>4</td>\n",
       "      <td>4</td>\n",
       "      <td>6</td>\n",
       "      <td>10</td>\n",
       "      <td>accepted</td>\n",
       "      <td>furnished</td>\n",
       "      <td>3200</td>\n",
       "      <td>11900</td>\n",
       "      <td>12500</td>\n",
       "      <td>159</td>\n",
       "      <td>27760</td>\n",
       "    </tr>\n",
       "    <tr>\n",
       "      <th>5331</th>\n",
       "      <td>São Paulo</td>\n",
       "      <td>300</td>\n",
       "      <td>4</td>\n",
       "      <td>5</td>\n",
       "      <td>5</td>\n",
       "      <td>6</td>\n",
       "      <td>not accepted</td>\n",
       "      <td>not furnished</td>\n",
       "      <td>3500</td>\n",
       "      <td>1990</td>\n",
       "      <td>10830</td>\n",
       "      <td>26</td>\n",
       "      <td>16350</td>\n",
       "    </tr>\n",
       "    <tr>\n",
       "      <th>19</th>\n",
       "      <td>São Paulo</td>\n",
       "      <td>600</td>\n",
       "      <td>4</td>\n",
       "      <td>5</td>\n",
       "      <td>6</td>\n",
       "      <td>-</td>\n",
       "      <td>accepted</td>\n",
       "      <td>not furnished</td>\n",
       "      <td>0</td>\n",
       "      <td>12000</td>\n",
       "      <td>9500</td>\n",
       "      <td>181</td>\n",
       "      <td>21680</td>\n",
       "    </tr>\n",
       "    <tr>\n",
       "      <th>7674</th>\n",
       "      <td>São Paulo</td>\n",
       "      <td>890</td>\n",
       "      <td>5</td>\n",
       "      <td>6</td>\n",
       "      <td>8</td>\n",
       "      <td>-</td>\n",
       "      <td>not accepted</td>\n",
       "      <td>not furnished</td>\n",
       "      <td>0</td>\n",
       "      <td>11000</td>\n",
       "      <td>9500</td>\n",
       "      <td>166</td>\n",
       "      <td>20670</td>\n",
       "    </tr>\n",
       "    <tr>\n",
       "      <th>2182</th>\n",
       "      <td>São Paulo</td>\n",
       "      <td>700</td>\n",
       "      <td>4</td>\n",
       "      <td>7</td>\n",
       "      <td>8</td>\n",
       "      <td>-</td>\n",
       "      <td>accepted</td>\n",
       "      <td>not furnished</td>\n",
       "      <td>0</td>\n",
       "      <td>45000</td>\n",
       "      <td>8750</td>\n",
       "      <td>677</td>\n",
       "      <td>54430</td>\n",
       "    </tr>\n",
       "    <tr>\n",
       "      <th>8187</th>\n",
       "      <td>São Paulo</td>\n",
       "      <td>700</td>\n",
       "      <td>4</td>\n",
       "      <td>10</td>\n",
       "      <td>0</td>\n",
       "      <td>-</td>\n",
       "      <td>accepted</td>\n",
       "      <td>not furnished</td>\n",
       "      <td>0</td>\n",
       "      <td>15000</td>\n",
       "      <td>8750</td>\n",
       "      <td>226</td>\n",
       "      <td>23980</td>\n",
       "    </tr>\n",
       "  </tbody>\n",
       "</table>\n",
       "</div>"
      ],
      "text/plain": [
       "                 city  area  rooms  bathroom  parking spaces floor  \\\n",
       "6645        São Paulo    42      1         2               1     6   \n",
       "6243   Rio de Janeiro    95      2         2               1    11   \n",
       "1699        São Paulo   700      4         4               4     -   \n",
       "10172  Belo Horizonte   260      4         4               6    10   \n",
       "5331        São Paulo   300      4         5               5     6   \n",
       "19          São Paulo   600      4         5               6     -   \n",
       "7674        São Paulo   890      5         6               8     -   \n",
       "2182        São Paulo   700      4         7               8     -   \n",
       "8187        São Paulo   700      4        10               0     -   \n",
       "\n",
       "             animal      furniture  hoa (Reais)  rent amount (Reais)  \\\n",
       "6645   not accepted  not furnished          690                 2500   \n",
       "6243       accepted  not furnished         1024                 3000   \n",
       "1699       accepted  not furnished            0                10000   \n",
       "10172      accepted      furnished         3200                11900   \n",
       "5331   not accepted  not furnished         3500                 1990   \n",
       "19         accepted  not furnished            0                12000   \n",
       "7674   not accepted  not furnished            0                11000   \n",
       "2182       accepted  not furnished            0                45000   \n",
       "8187       accepted  not furnished            0                15000   \n",
       "\n",
       "       property tax (Reais)  fire insurance (Reais)  total (Reais)  \n",
       "6645                 313700                      32         316900  \n",
       "6243                  28120                      39          32180  \n",
       "1699                  21880                     151          32040  \n",
       "10172                 12500                     159          27760  \n",
       "5331                  10830                      26          16350  \n",
       "19                     9500                     181          21680  \n",
       "7674                   9500                     166          20670  \n",
       "2182                   8750                     677          54430  \n",
       "8187                   8750                     226          23980  "
      ]
     },
     "execution_count": 65,
     "metadata": {},
     "output_type": "execute_result"
    }
   ],
   "source": [
    "df_updated[df_updated['property tax (Reais)']>8000].sort_values(by='property tax (Reais)',ascending =False)\n",
    "\n",
    "#Even though the first 3 rows seem to be higher than the rest, the 3rd value makes sense as the area is 700\n",
    "#However the first two values do not, because the area is extremely small. We will drop them"
   ]
  },
  {
   "cell_type": "code",
   "execution_count": 66,
   "metadata": {},
   "outputs": [],
   "source": [
    "df_updated = df_updated[df_updated['property tax (Reais)']<25000]"
   ]
  },
  {
   "cell_type": "code",
   "execution_count": 67,
   "metadata": {},
   "outputs": [
    {
     "data": {
      "text/plain": [
       "<matplotlib.axes._subplots.AxesSubplot at 0x245507689c8>"
      ]
     },
     "execution_count": 67,
     "metadata": {},
     "output_type": "execute_result"
    },
    {
     "data": {
      "image/png": "[encoded data removed]",
      "text/plain": [
       "<Figure size 432x288 with 1 Axes>"
      ]
     },
     "metadata": {
      "needs_background": "light"
     },
     "output_type": "display_data"
    }
   ],
   "source": [
    "sns.distplot(df_updated['property tax (Reais)'])"
   ]
  },
  {
   "cell_type": "markdown",
   "metadata": {},
   "source": [
    "### Total Amount ###\n",
    "### Total ###"
   ]
  },
  {
   "cell_type": "code",
   "execution_count": 68,
   "metadata": {},
   "outputs": [
    {
     "data": {
      "text/plain": [
       "2182    54430\n",
       "1699    32040\n",
       "6185    31580\n",
       "7748    31010\n",
       "1213    30660\n",
       "1862    28790\n",
       "254     28490\n",
       "9595    28310\n",
       "722     27840\n",
       "7679    27830\n",
       "Name: total (Reais), dtype: int64"
      ]
     },
     "execution_count": 68,
     "metadata": {},
     "output_type": "execute_result"
    }
   ],
   "source": [
    "df_updated['total (Reais)'].nlargest(10)"
   ]
  },
  {
   "cell_type": "code",
   "execution_count": 69,
   "metadata": {},
   "outputs": [
    {
     "data": {
      "text/html": [
       "<div>\n",
       "<style scoped>\n",
       "    .dataframe tbody tr th:only-of-type {\n",
       "        vertical-align: middle;\n",
       "    }\n",
       "\n",
       "    .dataframe tbody tr th {\n",
       "        vertical-align: top;\n",
       "    }\n",
       "\n",
       "    .dataframe thead th {\n",
       "        text-align: right;\n",
       "    }\n",
       "</style>\n",
       "<table border=\"1\" class=\"dataframe\">\n",
       "  <thead>\n",
       "    <tr style=\"text-align: right;\">\n",
       "      <th></th>\n",
       "      <th>city</th>\n",
       "      <th>area</th>\n",
       "      <th>rooms</th>\n",
       "      <th>bathroom</th>\n",
       "      <th>parking spaces</th>\n",
       "      <th>floor</th>\n",
       "      <th>animal</th>\n",
       "      <th>furniture</th>\n",
       "      <th>hoa (Reais)</th>\n",
       "      <th>rent amount (Reais)</th>\n",
       "      <th>property tax (Reais)</th>\n",
       "      <th>fire insurance (Reais)</th>\n",
       "      <th>total (Reais)</th>\n",
       "    </tr>\n",
       "  </thead>\n",
       "  <tbody>\n",
       "    <tr>\n",
       "      <th>2182</th>\n",
       "      <td>São Paulo</td>\n",
       "      <td>700</td>\n",
       "      <td>4</td>\n",
       "      <td>7</td>\n",
       "      <td>8</td>\n",
       "      <td>-</td>\n",
       "      <td>accepted</td>\n",
       "      <td>not furnished</td>\n",
       "      <td>0</td>\n",
       "      <td>45000</td>\n",
       "      <td>8750</td>\n",
       "      <td>677</td>\n",
       "      <td>54430</td>\n",
       "    </tr>\n",
       "    <tr>\n",
       "      <th>1699</th>\n",
       "      <td>São Paulo</td>\n",
       "      <td>700</td>\n",
       "      <td>4</td>\n",
       "      <td>4</td>\n",
       "      <td>4</td>\n",
       "      <td>-</td>\n",
       "      <td>accepted</td>\n",
       "      <td>not furnished</td>\n",
       "      <td>0</td>\n",
       "      <td>10000</td>\n",
       "      <td>21880</td>\n",
       "      <td>151</td>\n",
       "      <td>32040</td>\n",
       "    </tr>\n",
       "    <tr>\n",
       "      <th>6185</th>\n",
       "      <td>São Paulo</td>\n",
       "      <td>455</td>\n",
       "      <td>4</td>\n",
       "      <td>5</td>\n",
       "      <td>4</td>\n",
       "      <td>5</td>\n",
       "      <td>accepted</td>\n",
       "      <td>not furnished</td>\n",
       "      <td>8500</td>\n",
       "      <td>19500</td>\n",
       "      <td>3334</td>\n",
       "      <td>248</td>\n",
       "      <td>31580</td>\n",
       "    </tr>\n",
       "    <tr>\n",
       "      <th>7748</th>\n",
       "      <td>São Paulo</td>\n",
       "      <td>350</td>\n",
       "      <td>3</td>\n",
       "      <td>3</td>\n",
       "      <td>3</td>\n",
       "      <td>-</td>\n",
       "      <td>accepted</td>\n",
       "      <td>not furnished</td>\n",
       "      <td>0</td>\n",
       "      <td>30000</td>\n",
       "      <td>560</td>\n",
       "      <td>451</td>\n",
       "      <td>31010</td>\n",
       "    </tr>\n",
       "    <tr>\n",
       "      <th>1213</th>\n",
       "      <td>São Paulo</td>\n",
       "      <td>850</td>\n",
       "      <td>6</td>\n",
       "      <td>7</td>\n",
       "      <td>4</td>\n",
       "      <td>-</td>\n",
       "      <td>not accepted</td>\n",
       "      <td>not furnished</td>\n",
       "      <td>15000</td>\n",
       "      <td>13000</td>\n",
       "      <td>2465</td>\n",
       "      <td>196</td>\n",
       "      <td>30660</td>\n",
       "    </tr>\n",
       "    <tr>\n",
       "      <th>...</th>\n",
       "      <td>...</td>\n",
       "      <td>...</td>\n",
       "      <td>...</td>\n",
       "      <td>...</td>\n",
       "      <td>...</td>\n",
       "      <td>...</td>\n",
       "      <td>...</td>\n",
       "      <td>...</td>\n",
       "      <td>...</td>\n",
       "      <td>...</td>\n",
       "      <td>...</td>\n",
       "      <td>...</td>\n",
       "      <td>...</td>\n",
       "    </tr>\n",
       "    <tr>\n",
       "      <th>1549</th>\n",
       "      <td>São Paulo</td>\n",
       "      <td>420</td>\n",
       "      <td>4</td>\n",
       "      <td>4</td>\n",
       "      <td>4</td>\n",
       "      <td>7</td>\n",
       "      <td>accepted</td>\n",
       "      <td>not furnished</td>\n",
       "      <td>6000</td>\n",
       "      <td>12000</td>\n",
       "      <td>2000</td>\n",
       "      <td>153</td>\n",
       "      <td>20150</td>\n",
       "    </tr>\n",
       "    <tr>\n",
       "      <th>1758</th>\n",
       "      <td>São Paulo</td>\n",
       "      <td>260</td>\n",
       "      <td>4</td>\n",
       "      <td>4</td>\n",
       "      <td>3</td>\n",
       "      <td>11</td>\n",
       "      <td>not accepted</td>\n",
       "      <td>not furnished</td>\n",
       "      <td>3500</td>\n",
       "      <td>15000</td>\n",
       "      <td>1417</td>\n",
       "      <td>191</td>\n",
       "      <td>20110</td>\n",
       "    </tr>\n",
       "    <tr>\n",
       "      <th>1580</th>\n",
       "      <td>Belo Horizonte</td>\n",
       "      <td>312</td>\n",
       "      <td>4</td>\n",
       "      <td>5</td>\n",
       "      <td>4</td>\n",
       "      <td>15</td>\n",
       "      <td>accepted</td>\n",
       "      <td>not furnished</td>\n",
       "      <td>3150</td>\n",
       "      <td>15000</td>\n",
       "      <td>1747</td>\n",
       "      <td>200</td>\n",
       "      <td>20100</td>\n",
       "    </tr>\n",
       "    <tr>\n",
       "      <th>5884</th>\n",
       "      <td>São Paulo</td>\n",
       "      <td>260</td>\n",
       "      <td>4</td>\n",
       "      <td>4</td>\n",
       "      <td>4</td>\n",
       "      <td>4</td>\n",
       "      <td>accepted</td>\n",
       "      <td>not furnished</td>\n",
       "      <td>3247</td>\n",
       "      <td>15000</td>\n",
       "      <td>1589</td>\n",
       "      <td>191</td>\n",
       "      <td>20030</td>\n",
       "    </tr>\n",
       "    <tr>\n",
       "      <th>5400</th>\n",
       "      <td>São Paulo</td>\n",
       "      <td>277</td>\n",
       "      <td>2</td>\n",
       "      <td>3</td>\n",
       "      <td>4</td>\n",
       "      <td>19</td>\n",
       "      <td>accepted</td>\n",
       "      <td>not furnished</td>\n",
       "      <td>5295</td>\n",
       "      <td>13000</td>\n",
       "      <td>1550</td>\n",
       "      <td>165</td>\n",
       "      <td>20010</td>\n",
       "    </tr>\n",
       "  </tbody>\n",
       "</table>\n",
       "<p>116 rows × 13 columns</p>\n",
       "</div>"
      ],
      "text/plain": [
       "                city  area  rooms  bathroom  parking spaces floor  \\\n",
       "2182       São Paulo   700      4         7               8     -   \n",
       "1699       São Paulo   700      4         4               4     -   \n",
       "6185       São Paulo   455      4         5               4     5   \n",
       "7748       São Paulo   350      3         3               3     -   \n",
       "1213       São Paulo   850      6         7               4     -   \n",
       "...              ...   ...    ...       ...             ...   ...   \n",
       "1549       São Paulo   420      4         4               4     7   \n",
       "1758       São Paulo   260      4         4               3    11   \n",
       "1580  Belo Horizonte   312      4         5               4    15   \n",
       "5884       São Paulo   260      4         4               4     4   \n",
       "5400       São Paulo   277      2         3               4    19   \n",
       "\n",
       "            animal      furniture  hoa (Reais)  rent amount (Reais)  \\\n",
       "2182      accepted  not furnished            0                45000   \n",
       "1699      accepted  not furnished            0                10000   \n",
       "6185      accepted  not furnished         8500                19500   \n",
       "7748      accepted  not furnished            0                30000   \n",
       "1213  not accepted  not furnished        15000                13000   \n",
       "...            ...            ...          ...                  ...   \n",
       "1549      accepted  not furnished         6000                12000   \n",
       "1758  not accepted  not furnished         3500                15000   \n",
       "1580      accepted  not furnished         3150                15000   \n",
       "5884      accepted  not furnished         3247                15000   \n",
       "5400      accepted  not furnished         5295                13000   \n",
       "\n",
       "      property tax (Reais)  fire insurance (Reais)  total (Reais)  \n",
       "2182                  8750                     677          54430  \n",
       "1699                 21880                     151          32040  \n",
       "6185                  3334                     248          31580  \n",
       "7748                   560                     451          31010  \n",
       "1213                  2465                     196          30660  \n",
       "...                    ...                     ...            ...  \n",
       "1549                  2000                     153          20150  \n",
       "1758                  1417                     191          20110  \n",
       "1580                  1747                     200          20100  \n",
       "5884                  1589                     191          20030  \n",
       "5400                  1550                     165          20010  \n",
       "\n",
       "[116 rows x 13 columns]"
      ]
     },
     "execution_count": 69,
     "metadata": {},
     "output_type": "execute_result"
    }
   ],
   "source": [
    "df_updated[df_updated['total (Reais)']>20000].sort_values(by='total (Reais)',ascending = False)"
   ]
  },
  {
   "cell_type": "code",
   "execution_count": 70,
   "metadata": {},
   "outputs": [
    {
     "data": {
      "text/plain": [
       "<matplotlib.axes._subplots.AxesSubplot at 0x2455085a088>"
      ]
     },
     "execution_count": 70,
     "metadata": {},
     "output_type": "execute_result"
    },
    {
     "data": {
      "image/png": "[encoded data removed]",
      "text/plain": [
       "<Figure size 432x288 with 1 Axes>"
      ]
     },
     "metadata": {
      "needs_background": "light"
     },
     "output_type": "display_data"
    }
   ],
   "source": [
    "sns.distplot(df_updated['total (Reais)'])"
   ]
  },
  {
   "cell_type": "markdown",
   "metadata": {},
   "source": [
    "### Now that the data seems to be cleaned up, we can do some analysis ###"
   ]
  },
  {
   "cell_type": "code",
   "execution_count": 71,
   "metadata": {},
   "outputs": [
    {
     "data": {
      "text/html": [
       "<div>\n",
       "<style scoped>\n",
       "    .dataframe tbody tr th:only-of-type {\n",
       "        vertical-align: middle;\n",
       "    }\n",
       "\n",
       "    .dataframe tbody tr th {\n",
       "        vertical-align: top;\n",
       "    }\n",
       "\n",
       "    .dataframe thead th {\n",
       "        text-align: right;\n",
       "    }\n",
       "</style>\n",
       "<table border=\"1\" class=\"dataframe\">\n",
       "  <thead>\n",
       "    <tr style=\"text-align: right;\">\n",
       "      <th></th>\n",
       "      <th>city</th>\n",
       "      <th>area</th>\n",
       "      <th>rooms</th>\n",
       "      <th>bathroom</th>\n",
       "      <th>parking spaces</th>\n",
       "      <th>floor</th>\n",
       "      <th>animal</th>\n",
       "      <th>furniture</th>\n",
       "      <th>hoa (Reais)</th>\n",
       "      <th>rent amount (Reais)</th>\n",
       "      <th>property tax (Reais)</th>\n",
       "      <th>fire insurance (Reais)</th>\n",
       "      <th>total (Reais)</th>\n",
       "    </tr>\n",
       "  </thead>\n",
       "  <tbody>\n",
       "    <tr>\n",
       "      <th>0</th>\n",
       "      <td>São Paulo</td>\n",
       "      <td>70</td>\n",
       "      <td>2</td>\n",
       "      <td>1</td>\n",
       "      <td>1</td>\n",
       "      <td>7</td>\n",
       "      <td>accepted</td>\n",
       "      <td>furnished</td>\n",
       "      <td>2065</td>\n",
       "      <td>3300</td>\n",
       "      <td>211</td>\n",
       "      <td>42</td>\n",
       "      <td>5618</td>\n",
       "    </tr>\n",
       "    <tr>\n",
       "      <th>1</th>\n",
       "      <td>São Paulo</td>\n",
       "      <td>320</td>\n",
       "      <td>4</td>\n",
       "      <td>4</td>\n",
       "      <td>0</td>\n",
       "      <td>20</td>\n",
       "      <td>accepted</td>\n",
       "      <td>not furnished</td>\n",
       "      <td>1200</td>\n",
       "      <td>4960</td>\n",
       "      <td>1750</td>\n",
       "      <td>63</td>\n",
       "      <td>7973</td>\n",
       "    </tr>\n",
       "    <tr>\n",
       "      <th>2</th>\n",
       "      <td>Porto Alegre</td>\n",
       "      <td>80</td>\n",
       "      <td>1</td>\n",
       "      <td>1</td>\n",
       "      <td>1</td>\n",
       "      <td>6</td>\n",
       "      <td>accepted</td>\n",
       "      <td>not furnished</td>\n",
       "      <td>1000</td>\n",
       "      <td>2800</td>\n",
       "      <td>0</td>\n",
       "      <td>41</td>\n",
       "      <td>3841</td>\n",
       "    </tr>\n",
       "    <tr>\n",
       "      <th>3</th>\n",
       "      <td>Porto Alegre</td>\n",
       "      <td>51</td>\n",
       "      <td>2</td>\n",
       "      <td>1</td>\n",
       "      <td>0</td>\n",
       "      <td>2</td>\n",
       "      <td>accepted</td>\n",
       "      <td>not furnished</td>\n",
       "      <td>270</td>\n",
       "      <td>1112</td>\n",
       "      <td>22</td>\n",
       "      <td>17</td>\n",
       "      <td>1421</td>\n",
       "    </tr>\n",
       "    <tr>\n",
       "      <th>4</th>\n",
       "      <td>São Paulo</td>\n",
       "      <td>25</td>\n",
       "      <td>1</td>\n",
       "      <td>1</td>\n",
       "      <td>0</td>\n",
       "      <td>1</td>\n",
       "      <td>not accepted</td>\n",
       "      <td>not furnished</td>\n",
       "      <td>0</td>\n",
       "      <td>800</td>\n",
       "      <td>25</td>\n",
       "      <td>11</td>\n",
       "      <td>836</td>\n",
       "    </tr>\n",
       "  </tbody>\n",
       "</table>\n",
       "</div>"
      ],
      "text/plain": [
       "           city  area  rooms  bathroom  parking spaces floor        animal  \\\n",
       "0     São Paulo    70      2         1               1     7      accepted   \n",
       "1     São Paulo   320      4         4               0    20      accepted   \n",
       "2  Porto Alegre    80      1         1               1     6      accepted   \n",
       "3  Porto Alegre    51      2         1               0     2      accepted   \n",
       "4     São Paulo    25      1         1               0     1  not accepted   \n",
       "\n",
       "       furniture  hoa (Reais)  rent amount (Reais)  property tax (Reais)  \\\n",
       "0      furnished         2065                 3300                   211   \n",
       "1  not furnished         1200                 4960                  1750   \n",
       "2  not furnished         1000                 2800                     0   \n",
       "3  not furnished          270                 1112                    22   \n",
       "4  not furnished            0                  800                    25   \n",
       "\n",
       "   fire insurance (Reais)  total (Reais)  \n",
       "0                      42           5618  \n",
       "1                      63           7973  \n",
       "2                      41           3841  \n",
       "3                      17           1421  \n",
       "4                      11            836  "
      ]
     },
     "execution_count": 71,
     "metadata": {},
     "output_type": "execute_result"
    }
   ],
   "source": [
    "df_updated.head()"
   ]
  },
  {
   "cell_type": "code",
   "execution_count": 72,
   "metadata": {},
   "outputs": [
    {
     "data": {
      "text/html": [
       "<div>\n",
       "<style scoped>\n",
       "    .dataframe tbody tr th:only-of-type {\n",
       "        vertical-align: middle;\n",
       "    }\n",
       "\n",
       "    .dataframe tbody tr th {\n",
       "        vertical-align: top;\n",
       "    }\n",
       "\n",
       "    .dataframe thead th {\n",
       "        text-align: right;\n",
       "    }\n",
       "</style>\n",
       "<table border=\"1\" class=\"dataframe\">\n",
       "  <thead>\n",
       "    <tr style=\"text-align: right;\">\n",
       "      <th></th>\n",
       "      <th>area</th>\n",
       "      <th>rooms</th>\n",
       "      <th>bathroom</th>\n",
       "      <th>parking spaces</th>\n",
       "      <th>hoa (Reais)</th>\n",
       "      <th>rent amount (Reais)</th>\n",
       "      <th>property tax (Reais)</th>\n",
       "      <th>fire insurance (Reais)</th>\n",
       "      <th>total (Reais)</th>\n",
       "    </tr>\n",
       "  </thead>\n",
       "  <tbody>\n",
       "    <tr>\n",
       "      <th>count</th>\n",
       "      <td>10681.000000</td>\n",
       "      <td>10681.000000</td>\n",
       "      <td>10681.000000</td>\n",
       "      <td>10681.000000</td>\n",
       "      <td>10681.000000</td>\n",
       "      <td>10681.000000</td>\n",
       "      <td>10681.000000</td>\n",
       "      <td>10681.000000</td>\n",
       "      <td>10681.000000</td>\n",
       "    </tr>\n",
       "    <tr>\n",
       "      <th>mean</th>\n",
       "      <td>141.430203</td>\n",
       "      <td>2.506039</td>\n",
       "      <td>2.235652</td>\n",
       "      <td>1.609213</td>\n",
       "      <td>915.631682</td>\n",
       "      <td>3894.035671</td>\n",
       "      <td>333.066192</td>\n",
       "      <td>53.275162</td>\n",
       "      <td>5196.197922</td>\n",
       "    </tr>\n",
       "    <tr>\n",
       "      <th>std</th>\n",
       "      <td>134.365895</td>\n",
       "      <td>1.170720</td>\n",
       "      <td>1.406042</td>\n",
       "      <td>1.589256</td>\n",
       "      <td>1127.736736</td>\n",
       "      <td>3405.011398</td>\n",
       "      <td>623.376247</td>\n",
       "      <td>47.733458</td>\n",
       "      <td>4481.861224</td>\n",
       "    </tr>\n",
       "    <tr>\n",
       "      <th>min</th>\n",
       "      <td>11.000000</td>\n",
       "      <td>1.000000</td>\n",
       "      <td>1.000000</td>\n",
       "      <td>0.000000</td>\n",
       "      <td>0.000000</td>\n",
       "      <td>450.000000</td>\n",
       "      <td>0.000000</td>\n",
       "      <td>3.000000</td>\n",
       "      <td>499.000000</td>\n",
       "    </tr>\n",
       "    <tr>\n",
       "      <th>25%</th>\n",
       "      <td>56.000000</td>\n",
       "      <td>2.000000</td>\n",
       "      <td>1.000000</td>\n",
       "      <td>0.000000</td>\n",
       "      <td>170.000000</td>\n",
       "      <td>1530.000000</td>\n",
       "      <td>38.000000</td>\n",
       "      <td>21.000000</td>\n",
       "      <td>2060.000000</td>\n",
       "    </tr>\n",
       "    <tr>\n",
       "      <th>50%</th>\n",
       "      <td>90.000000</td>\n",
       "      <td>2.000000</td>\n",
       "      <td>2.000000</td>\n",
       "      <td>1.000000</td>\n",
       "      <td>557.000000</td>\n",
       "      <td>2650.000000</td>\n",
       "      <td>125.000000</td>\n",
       "      <td>36.000000</td>\n",
       "      <td>3577.000000</td>\n",
       "    </tr>\n",
       "    <tr>\n",
       "      <th>75%</th>\n",
       "      <td>182.000000</td>\n",
       "      <td>3.000000</td>\n",
       "      <td>3.000000</td>\n",
       "      <td>2.000000</td>\n",
       "      <td>1233.000000</td>\n",
       "      <td>5000.000000</td>\n",
       "      <td>375.000000</td>\n",
       "      <td>68.000000</td>\n",
       "      <td>6754.000000</td>\n",
       "    </tr>\n",
       "    <tr>\n",
       "      <th>max</th>\n",
       "      <td>2000.000000</td>\n",
       "      <td>13.000000</td>\n",
       "      <td>10.000000</td>\n",
       "      <td>12.000000</td>\n",
       "      <td>15000.000000</td>\n",
       "      <td>45000.000000</td>\n",
       "      <td>21880.000000</td>\n",
       "      <td>677.000000</td>\n",
       "      <td>54430.000000</td>\n",
       "    </tr>\n",
       "  </tbody>\n",
       "</table>\n",
       "</div>"
      ],
      "text/plain": [
       "               area         rooms      bathroom  parking spaces   hoa (Reais)  \\\n",
       "count  10681.000000  10681.000000  10681.000000    10681.000000  10681.000000   \n",
       "mean     141.430203      2.506039      2.235652        1.609213    915.631682   \n",
       "std      134.365895      1.170720      1.406042        1.589256   1127.736736   \n",
       "min       11.000000      1.000000      1.000000        0.000000      0.000000   \n",
       "25%       56.000000      2.000000      1.000000        0.000000    170.000000   \n",
       "50%       90.000000      2.000000      2.000000        1.000000    557.000000   \n",
       "75%      182.000000      3.000000      3.000000        2.000000   1233.000000   \n",
       "max     2000.000000     13.000000     10.000000       12.000000  15000.000000   \n",
       "\n",
       "       rent amount (Reais)  property tax (Reais)  fire insurance (Reais)  \\\n",
       "count         10681.000000          10681.000000            10681.000000   \n",
       "mean           3894.035671            333.066192               53.275162   \n",
       "std            3405.011398            623.376247               47.733458   \n",
       "min             450.000000              0.000000                3.000000   \n",
       "25%            1530.000000             38.000000               21.000000   \n",
       "50%            2650.000000            125.000000               36.000000   \n",
       "75%            5000.000000            375.000000               68.000000   \n",
       "max           45000.000000          21880.000000              677.000000   \n",
       "\n",
       "       total (Reais)  \n",
       "count   10681.000000  \n",
       "mean     5196.197922  \n",
       "std      4481.861224  \n",
       "min       499.000000  \n",
       "25%      2060.000000  \n",
       "50%      3577.000000  \n",
       "75%      6754.000000  \n",
       "max     54430.000000  "
      ]
     },
     "execution_count": 72,
     "metadata": {},
     "output_type": "execute_result"
    }
   ],
   "source": [
    "df_updated.describe()"
   ]
  },
  {
   "cell_type": "code",
   "execution_count": 73,
   "metadata": {},
   "outputs": [
    {
     "data": {
      "text/plain": [
       "<matplotlib.axes._subplots.AxesSubplot at 0x245509410c8>"
      ]
     },
     "execution_count": 73,
     "metadata": {},
     "output_type": "execute_result"
    },
    {
     "data": {
      "image/png": "[encoded data removed]",
      "text/plain": [
       "<Figure size 432x288 with 1 Axes>"
      ]
     },
     "metadata": {
      "needs_background": "light"
     },
     "output_type": "display_data"
    }
   ],
   "source": [
    "# Checking if there is missing data\n",
    "# Checando para ver se temos dados faltando\n",
    "sns.heatmap(df_updated.isnull(),cbar=False) \n",
    "\n",
    "# As we can see, there is no missing data\n",
    "# Podemos ver que não há dados faltando"
   ]
  },
  {
   "cell_type": "code",
   "execution_count": 77,
   "metadata": {},
   "outputs": [
    {
     "data": {
      "text/plain": [
       "São Paulo         5883\n",
       "Rio de Janeiro    1499\n",
       "Belo Horizonte    1255\n",
       "Porto Alegre      1192\n",
       "Campinas           852\n",
       "Name: city, dtype: int64"
      ]
     },
     "execution_count": 77,
     "metadata": {},
     "output_type": "execute_result"
    }
   ],
   "source": [
    "# Amount of houses by city\n",
    "# Quantidade de casa por cidade\n",
    "df_updated['city'].value_counts()"
   ]
  },
  {
   "cell_type": "code",
   "execution_count": 78,
   "metadata": {},
   "outputs": [
    {
     "data": {
      "text/plain": [
       "<matplotlib.axes._subplots.AxesSubplot at 0x24550dbb7c8>"
      ]
     },
     "execution_count": 78,
     "metadata": {},
     "output_type": "execute_result"
    },
    {
     "data": {
      "image/png": "[encoded data removed]",
      "text/plain": [
       "<Figure size 864x288 with 1 Axes>"
      ]
     },
     "metadata": {
      "needs_background": "light"
     },
     "output_type": "display_data"
    }
   ],
   "source": [
    "plt.figure(figsize=(12,4))\n",
    "sns.countplot(x='city',data=df,order = df['city'].value_counts().index)"
   ]
  },
  {
   "cell_type": "code",
   "execution_count": 79,
   "metadata": {},
   "outputs": [
    {
     "data": {
      "image/png": "[encoded data removed]",
      "text/plain": [
       "<Figure size 1008x720 with 1 Axes>"
      ]
     },
     "metadata": {
      "needs_background": "light"
     },
     "output_type": "display_data"
    }
   ],
   "source": [
    "# Boxplot for rent amount by city\n",
    "# Boxplot para preço de aluguel por cidade\n",
    "plt.figure(figsize=(14,10))\n",
    "g = sns.boxplot(x=\"city\", y=\"rent amount (Reais)\", data=df_updated,palette='rainbow')\n",
    "# Notice that there is an outlier that has rent amount of above R$ 40,000.00 and one with rent around R$ 30,000.00\n",
    "# Observe que há um outlier com preço de aluguel acima de R$ 40,000.00 e um de R$ 30,000.00"
   ]
  },
  {
   "cell_type": "code",
   "execution_count": 80,
   "metadata": {},
   "outputs": [
    {
     "data": {
      "text/plain": [
       "city                          São Paulo\n",
       "area                                700\n",
       "rooms                                 4\n",
       "bathroom                              7\n",
       "parking spaces                        8\n",
       "floor                                 -\n",
       "animal                         accepted\n",
       "furniture                 not furnished\n",
       "hoa (Reais)                           0\n",
       "rent amount (Reais)               45000\n",
       "property tax (Reais)               8750\n",
       "fire insurance (Reais)              677\n",
       "total (Reais)                     54430\n",
       "Name: 2182, dtype: object"
      ]
     },
     "execution_count": 80,
     "metadata": {},
     "output_type": "execute_result"
    }
   ],
   "source": [
    "# Details of the outlier mentioned\n",
    "# Detalhes do outlier mencionado\n",
    "df_updated.loc[df_updated[df_updated['city']=='São Paulo']['rent amount (Reais)'].idxmax()]"
   ]
  },
  {
   "cell_type": "code",
   "execution_count": 81,
   "metadata": {},
   "outputs": [
    {
     "data": {
      "text/plain": [
       "city                          São Paulo\n",
       "area                                350\n",
       "rooms                                 3\n",
       "bathroom                              3\n",
       "parking spaces                        3\n",
       "floor                                 -\n",
       "animal                         accepted\n",
       "furniture                 not furnished\n",
       "hoa (Reais)                           0\n",
       "rent amount (Reais)               30000\n",
       "property tax (Reais)                560\n",
       "fire insurance (Reais)              451\n",
       "total (Reais)                     31010\n",
       "Name: 7748, dtype: object"
      ]
     },
     "execution_count": 81,
     "metadata": {},
     "output_type": "execute_result"
    }
   ],
   "source": [
    "# Details of the second placed outlier \n",
    "# Detalhes do segundo outlier\n",
    "df_updated.loc[df_updated[df_updated['city']=='São Paulo']['rent amount (Reais)'].nlargest(2).idxmin()]"
   ]
  },
  {
   "cell_type": "code",
   "execution_count": 83,
   "metadata": {},
   "outputs": [
    {
     "data": {
      "text/plain": [
       "city\n",
       "São Paulo         4648.72\n",
       "Belo Horizonte    3661.67\n",
       "Rio de Janeiro    3232.21\n",
       "Campinas          2365.19\n",
       "Porto Alegre      2339.07\n",
       "Name: rent amount (Reais), dtype: float64"
      ]
     },
     "execution_count": 83,
     "metadata": {},
     "output_type": "execute_result"
    }
   ],
   "source": [
    "# Average Total Rent amount by City\n",
    "# Média de aluguel por cidade\n",
    "avg_rent_by_city = df_updated.groupby('city')['rent amount (Reais)'].mean().round(2).sort_values(ascending =False)\n",
    "avg_rent_by_city"
   ]
  },
  {
   "cell_type": "code",
   "execution_count": 84,
   "metadata": {},
   "outputs": [
    {
     "data": {
      "text/plain": [
       "city\n",
       "São Paulo         6250.80\n",
       "Belo Horizonte    4537.33\n",
       "Rio de Janeiro    4532.59\n",
       "Campinas          3174.16\n",
       "Porto Alegre      2964.82\n",
       "Name: total (Reais), dtype: float64"
      ]
     },
     "execution_count": 84,
     "metadata": {},
     "output_type": "execute_result"
    }
   ],
   "source": [
    "# Average Total Price by City\n",
    "# Média de preco por cidade\n",
    "avg_total_by_city = df_updated.groupby('city')['total (Reais)'].mean().round(2).sort_values(ascending =False)\n",
    "avg_total_by_city"
   ]
  },
  {
   "cell_type": "code",
   "execution_count": 85,
   "metadata": {},
   "outputs": [
    {
     "data": {
      "text/plain": [
       "<matplotlib.axes._subplots.AxesSubplot at 0x2455131ca08>"
      ]
     },
     "execution_count": 85,
     "metadata": {},
     "output_type": "execute_result"
    },
    {
     "data": {
      "image/png": "[encoded data removed]",
      "text/plain": [
       "<Figure size 432x288 with 1 Axes>"
      ]
     },
     "metadata": {
      "needs_background": "light"
     },
     "output_type": "display_data"
    }
   ],
   "source": [
    "avg_rent_by_city.plot(kind='bar',title ='Average Rent Amount by City',rot =45)"
   ]
  },
  {
   "cell_type": "code",
   "execution_count": 86,
   "metadata": {},
   "outputs": [
    {
     "data": {
      "text/plain": [
       "<matplotlib.axes._subplots.AxesSubplot at 0x2455183ba48>"
      ]
     },
     "execution_count": 86,
     "metadata": {},
     "output_type": "execute_result"
    },
    {
     "data": {
      "image/png": "[encoded data removed]",
      "text/plain": [
       "<Figure size 432x288 with 1 Axes>"
      ]
     },
     "metadata": {
      "needs_background": "light"
     },
     "output_type": "display_data"
    }
   ],
   "source": [
    "avg_total_by_city.plot(kind='bar',title ='Average Total Price by City',rot =45)"
   ]
  },
  {
   "cell_type": "code",
   "execution_count": 87,
   "metadata": {},
   "outputs": [
    {
     "data": {
      "text/html": [
       "<div>\n",
       "<style scoped>\n",
       "    .dataframe tbody tr th:only-of-type {\n",
       "        vertical-align: middle;\n",
       "    }\n",
       "\n",
       "    .dataframe tbody tr th {\n",
       "        vertical-align: top;\n",
       "    }\n",
       "\n",
       "    .dataframe thead th {\n",
       "        text-align: right;\n",
       "    }\n",
       "</style>\n",
       "<table border=\"1\" class=\"dataframe\">\n",
       "  <thead>\n",
       "    <tr style=\"text-align: right;\">\n",
       "      <th></th>\n",
       "      <th>hoa (Reais)</th>\n",
       "      <th>rent amount (Reais)</th>\n",
       "      <th>property tax (Reais)</th>\n",
       "      <th>fire insurance (Reais)</th>\n",
       "      <th>total (Reais)</th>\n",
       "    </tr>\n",
       "    <tr>\n",
       "      <th>city</th>\n",
       "      <th></th>\n",
       "      <th></th>\n",
       "      <th></th>\n",
       "      <th></th>\n",
       "      <th></th>\n",
       "    </tr>\n",
       "  </thead>\n",
       "  <tbody>\n",
       "    <tr>\n",
       "      <th>Belo Horizonte</th>\n",
       "      <td>548.908367</td>\n",
       "      <td>3661.667729</td>\n",
       "      <td>272.817530</td>\n",
       "      <td>53.652590</td>\n",
       "      <td>4537.334661</td>\n",
       "    </tr>\n",
       "    <tr>\n",
       "      <th>Campinas</th>\n",
       "      <td>628.839202</td>\n",
       "      <td>2365.187793</td>\n",
       "      <td>147.718310</td>\n",
       "      <td>32.401408</td>\n",
       "      <td>3174.164319</td>\n",
       "    </tr>\n",
       "    <tr>\n",
       "      <th>Porto Alegre</th>\n",
       "      <td>465.185403</td>\n",
       "      <td>2339.073826</td>\n",
       "      <td>124.092282</td>\n",
       "      <td>36.447148</td>\n",
       "      <td>2964.816275</td>\n",
       "    </tr>\n",
       "    <tr>\n",
       "      <th>Rio de Janeiro</th>\n",
       "      <td>1026.053369</td>\n",
       "      <td>3232.214143</td>\n",
       "      <td>231.832555</td>\n",
       "      <td>42.474983</td>\n",
       "      <td>4532.587725</td>\n",
       "    </tr>\n",
       "    <tr>\n",
       "      <th>São Paulo</th>\n",
       "      <td>1098.530682</td>\n",
       "      <td>4648.716131</td>\n",
       "      <td>440.898011</td>\n",
       "      <td>62.379228</td>\n",
       "      <td>6250.796702</td>\n",
       "    </tr>\n",
       "  </tbody>\n",
       "</table>\n",
       "</div>"
      ],
      "text/plain": [
       "                hoa (Reais)  rent amount (Reais)  property tax (Reais)  \\\n",
       "city                                                                     \n",
       "Belo Horizonte   548.908367          3661.667729            272.817530   \n",
       "Campinas         628.839202          2365.187793            147.718310   \n",
       "Porto Alegre     465.185403          2339.073826            124.092282   \n",
       "Rio de Janeiro  1026.053369          3232.214143            231.832555   \n",
       "São Paulo       1098.530682          4648.716131            440.898011   \n",
       "\n",
       "                fire insurance (Reais)  total (Reais)  \n",
       "city                                                   \n",
       "Belo Horizonte               53.652590    4537.334661  \n",
       "Campinas                     32.401408    3174.164319  \n",
       "Porto Alegre                 36.447148    2964.816275  \n",
       "Rio de Janeiro               42.474983    4532.587725  \n",
       "São Paulo                    62.379228    6250.796702  "
      ]
     },
     "execution_count": 87,
     "metadata": {},
     "output_type": "execute_result"
    }
   ],
   "source": [
    "df_updated.groupby('city')[['hoa (Reais)','rent amount (Reais)','property tax (Reais)','fire insurance (Reais)','total (Reais)']].mean()"
   ]
  },
  {
   "cell_type": "markdown",
   "metadata": {},
   "source": [
    "São Paulo is the city with the highest price to rent a house, with Belo Horizonte coming in second and Rio de Janeiro in third. Note that the average hoa (Reais) for Rio de Janeiro is way higher than Belo Horizonte (almost double).\n",
    "\n",
    "São Paulo é a cidade com o maior preço para alugar uma casa, com Belo Horizonte em segundo e Rio de Janeiro em terceiro.\n",
    "Observe que em média o hoa no Rio de Janeiro é muito maior que em Belo Horizonte (quase o dobro)."
   ]
  },
  {
   "cell_type": "markdown",
   "metadata": {},
   "source": [
    "### From now on, we will try to use the total column to analyse our data ###\n",
    "De agora em diante, usaremos a coluna total para analisar nossos dados"
   ]
  },
  {
   "cell_type": "code",
   "execution_count": 88,
   "metadata": {},
   "outputs": [],
   "source": [
    "df_updated_1 = df_updated.drop(['hoa (Reais)', 'rent amount (Reais)', 'property tax (Reais)', 'fire insurance (Reais)'],axis =1)"
   ]
  },
  {
   "cell_type": "code",
   "execution_count": 89,
   "metadata": {},
   "outputs": [
    {
     "data": {
      "text/html": [
       "<div>\n",
       "<style scoped>\n",
       "    .dataframe tbody tr th:only-of-type {\n",
       "        vertical-align: middle;\n",
       "    }\n",
       "\n",
       "    .dataframe tbody tr th {\n",
       "        vertical-align: top;\n",
       "    }\n",
       "\n",
       "    .dataframe thead th {\n",
       "        text-align: right;\n",
       "    }\n",
       "</style>\n",
       "<table border=\"1\" class=\"dataframe\">\n",
       "  <thead>\n",
       "    <tr style=\"text-align: right;\">\n",
       "      <th></th>\n",
       "      <th>city</th>\n",
       "      <th>area</th>\n",
       "      <th>rooms</th>\n",
       "      <th>bathroom</th>\n",
       "      <th>parking spaces</th>\n",
       "      <th>floor</th>\n",
       "      <th>animal</th>\n",
       "      <th>furniture</th>\n",
       "      <th>total (Reais)</th>\n",
       "    </tr>\n",
       "  </thead>\n",
       "  <tbody>\n",
       "    <tr>\n",
       "      <th>0</th>\n",
       "      <td>São Paulo</td>\n",
       "      <td>70</td>\n",
       "      <td>2</td>\n",
       "      <td>1</td>\n",
       "      <td>1</td>\n",
       "      <td>7</td>\n",
       "      <td>accepted</td>\n",
       "      <td>furnished</td>\n",
       "      <td>5618</td>\n",
       "    </tr>\n",
       "    <tr>\n",
       "      <th>1</th>\n",
       "      <td>São Paulo</td>\n",
       "      <td>320</td>\n",
       "      <td>4</td>\n",
       "      <td>4</td>\n",
       "      <td>0</td>\n",
       "      <td>20</td>\n",
       "      <td>accepted</td>\n",
       "      <td>not furnished</td>\n",
       "      <td>7973</td>\n",
       "    </tr>\n",
       "    <tr>\n",
       "      <th>2</th>\n",
       "      <td>Porto Alegre</td>\n",
       "      <td>80</td>\n",
       "      <td>1</td>\n",
       "      <td>1</td>\n",
       "      <td>1</td>\n",
       "      <td>6</td>\n",
       "      <td>accepted</td>\n",
       "      <td>not furnished</td>\n",
       "      <td>3841</td>\n",
       "    </tr>\n",
       "    <tr>\n",
       "      <th>3</th>\n",
       "      <td>Porto Alegre</td>\n",
       "      <td>51</td>\n",
       "      <td>2</td>\n",
       "      <td>1</td>\n",
       "      <td>0</td>\n",
       "      <td>2</td>\n",
       "      <td>accepted</td>\n",
       "      <td>not furnished</td>\n",
       "      <td>1421</td>\n",
       "    </tr>\n",
       "    <tr>\n",
       "      <th>4</th>\n",
       "      <td>São Paulo</td>\n",
       "      <td>25</td>\n",
       "      <td>1</td>\n",
       "      <td>1</td>\n",
       "      <td>0</td>\n",
       "      <td>1</td>\n",
       "      <td>not accepted</td>\n",
       "      <td>not furnished</td>\n",
       "      <td>836</td>\n",
       "    </tr>\n",
       "  </tbody>\n",
       "</table>\n",
       "</div>"
      ],
      "text/plain": [
       "           city  area  rooms  bathroom  parking spaces floor        animal  \\\n",
       "0     São Paulo    70      2         1               1     7      accepted   \n",
       "1     São Paulo   320      4         4               0    20      accepted   \n",
       "2  Porto Alegre    80      1         1               1     6      accepted   \n",
       "3  Porto Alegre    51      2         1               0     2      accepted   \n",
       "4     São Paulo    25      1         1               0     1  not accepted   \n",
       "\n",
       "       furniture  total (Reais)  \n",
       "0      furnished           5618  \n",
       "1  not furnished           7973  \n",
       "2  not furnished           3841  \n",
       "3  not furnished           1421  \n",
       "4  not furnished            836  "
      ]
     },
     "execution_count": 89,
     "metadata": {},
     "output_type": "execute_result"
    }
   ],
   "source": [
    "df_updated_1.head()"
   ]
  },
  {
   "cell_type": "code",
   "execution_count": 90,
   "metadata": {},
   "outputs": [
    {
     "data": {
      "text/plain": [
       "<matplotlib.axes._subplots.AxesSubplot at 0x24551328588>"
      ]
     },
     "execution_count": 90,
     "metadata": {},
     "output_type": "execute_result"
    },
    {
     "data": {
      "image/png": "[encoded data removed]",
      "text/plain": [
       "<Figure size 432x288 with 2 Axes>"
      ]
     },
     "metadata": {
      "needs_background": "light"
     },
     "output_type": "display_data"
    }
   ],
   "source": [
    "sns.heatmap(df_updated_1.corr(),annot =True,cmap='viridis')\n",
    "# The correlation between bathroom and total (Reais) is the highest we can observe\n",
    "# A correlação entre bathroom e total (Reais) é a maior que podemos observar"
   ]
  },
  {
   "cell_type": "code",
   "execution_count": 91,
   "metadata": {},
   "outputs": [
    {
     "data": {
      "text/plain": [
       "<seaborn.axisgrid.FacetGrid at 0x2455294bb08>"
      ]
     },
     "execution_count": 91,
     "metadata": {},
     "output_type": "execute_result"
    },
    {
     "data": {
      "image/png": "[encoded data removed]",
      "text/plain": [
       "<Figure size 360x360 with 1 Axes>"
      ]
     },
     "metadata": {
      "needs_background": "light"
     },
     "output_type": "display_data"
    }
   ],
   "source": [
    "sns.lmplot(x='area',y='total (Reais)',data = df_updated_1)"
   ]
  },
  {
   "cell_type": "code",
   "execution_count": 92,
   "metadata": {},
   "outputs": [
    {
     "data": {
      "text/plain": [
       "<matplotlib.axes._subplots.AxesSubplot at 0x24552b360c8>"
      ]
     },
     "execution_count": 92,
     "metadata": {},
     "output_type": "execute_result"
    },
    {
     "data": {
      "image/png": "[encoded data removed]",
      "text/plain": [
       "<Figure size 432x288 with 1 Axes>"
      ]
     },
     "metadata": {
      "needs_background": "light"
     },
     "output_type": "display_data"
    }
   ],
   "source": [
    "sns.scatterplot(x='area',y='total (Reais)',hue='furniture',data=df_updated_1)"
   ]
  },
  {
   "cell_type": "code",
   "execution_count": 93,
   "metadata": {},
   "outputs": [
    {
     "data": {
      "text/plain": [
       "not furnished    8078\n",
       "furnished        2603\n",
       "Name: furniture, dtype: int64"
      ]
     },
     "execution_count": 93,
     "metadata": {},
     "output_type": "execute_result"
    }
   ],
   "source": [
    "df_updated_1['furniture'].value_counts()"
   ]
  },
  {
   "cell_type": "code",
   "execution_count": 94,
   "metadata": {},
   "outputs": [
    {
     "data": {
      "text/plain": [
       "furniture\n",
       "furnished        6469.117557\n",
       "not furnished    4786.020921\n",
       "Name: total (Reais), dtype: float64"
      ]
     },
     "execution_count": 94,
     "metadata": {},
     "output_type": "execute_result"
    }
   ],
   "source": [
    "df_updated_1.groupby('furniture')['total (Reais)'].mean()\n",
    "# A furnished house to rent is in average R$ 1683 more expensive than a not furnished house"
   ]
  },
  {
   "cell_type": "code",
   "execution_count": 95,
   "metadata": {},
   "outputs": [
    {
     "data": {
      "text/plain": [
       "accepted        8308\n",
       "not accepted    2373\n",
       "Name: animal, dtype: int64"
      ]
     },
     "execution_count": 95,
     "metadata": {},
     "output_type": "execute_result"
    }
   ],
   "source": [
    "df_updated_1['animal'].value_counts()"
   ]
  },
  {
   "cell_type": "code",
   "execution_count": 96,
   "metadata": {},
   "outputs": [
    {
     "data": {
      "text/plain": [
       "animal\n",
       "accepted        5354.925494\n",
       "not accepted    4640.484197\n",
       "Name: total (Reais), dtype: float64"
      ]
     },
     "execution_count": 96,
     "metadata": {},
     "output_type": "execute_result"
    }
   ],
   "source": [
    "df_updated_1.groupby('animal')['total (Reais)'].mean()\n",
    "# A house that accepts animals is in average R$ 714 more expensive than a house that does not"
   ]
  },
  {
   "cell_type": "code",
   "execution_count": 97,
   "metadata": {},
   "outputs": [
    {
     "data": {
      "text/plain": [
       "<matplotlib.axes._subplots.AxesSubplot at 0x245529c4f08>"
      ]
     },
     "execution_count": 97,
     "metadata": {},
     "output_type": "execute_result"
    },
    {
     "data": {
      "image/png": "[encoded data removed]",
      "text/plain": [
       "<Figure size 432x288 with 1 Axes>"
      ]
     },
     "metadata": {
      "needs_background": "light"
     },
     "output_type": "display_data"
    }
   ],
   "source": [
    "sns.scatterplot(x='area',y='total (Reais)',hue='animal',data=df_updated_1)"
   ]
  },
  {
   "cell_type": "code",
   "execution_count": 98,
   "metadata": {},
   "outputs": [
    {
     "data": {
      "text/plain": [
       "<matplotlib.axes._subplots.AxesSubplot at 0x24552bb6e48>"
      ]
     },
     "execution_count": 98,
     "metadata": {},
     "output_type": "execute_result"
    },
    {
     "data": {
      "image/png": "[encoded data removed]",
      "text/plain": [
       "<Figure size 864x432 with 1 Axes>"
      ]
     },
     "metadata": {
      "needs_background": "light"
     },
     "output_type": "display_data"
    }
   ],
   "source": [
    "plt.figure(figsize=(12,6))\n",
    "sns.boxplot(x='rooms',y='total (Reais)',data=df_updated_1)"
   ]
  },
  {
   "cell_type": "code",
   "execution_count": 99,
   "metadata": {},
   "outputs": [
    {
     "data": {
      "text/plain": [
       "<matplotlib.axes._subplots.AxesSubplot at 0x24552ef9d08>"
      ]
     },
     "execution_count": 99,
     "metadata": {},
     "output_type": "execute_result"
    },
    {
     "data": {
      "image/png": "[encoded data removed]",
      "text/plain": [
       "<Figure size 432x288 with 1 Axes>"
      ]
     },
     "metadata": {
      "needs_background": "light"
     },
     "output_type": "display_data"
    }
   ],
   "source": [
    "sns.barplot(x='rooms',y='total (Reais)',data=df_updated_1)"
   ]
  },
  {
   "cell_type": "code",
   "execution_count": 100,
   "metadata": {},
   "outputs": [
    {
     "data": {
      "text/html": [
       "<div>\n",
       "<style scoped>\n",
       "    .dataframe tbody tr th:only-of-type {\n",
       "        vertical-align: middle;\n",
       "    }\n",
       "\n",
       "    .dataframe tbody tr th {\n",
       "        vertical-align: top;\n",
       "    }\n",
       "\n",
       "    .dataframe thead th {\n",
       "        text-align: right;\n",
       "    }\n",
       "</style>\n",
       "<table border=\"1\" class=\"dataframe\">\n",
       "  <thead>\n",
       "    <tr style=\"text-align: right;\">\n",
       "      <th></th>\n",
       "      <th>count</th>\n",
       "      <th>mean</th>\n",
       "      <th>std</th>\n",
       "      <th>min</th>\n",
       "      <th>25%</th>\n",
       "      <th>50%</th>\n",
       "      <th>75%</th>\n",
       "      <th>max</th>\n",
       "    </tr>\n",
       "    <tr>\n",
       "      <th>rooms</th>\n",
       "      <th></th>\n",
       "      <th></th>\n",
       "      <th></th>\n",
       "      <th></th>\n",
       "      <th></th>\n",
       "      <th></th>\n",
       "      <th></th>\n",
       "      <th></th>\n",
       "    </tr>\n",
       "  </thead>\n",
       "  <tbody>\n",
       "    <tr>\n",
       "      <th>1</th>\n",
       "      <td>2449.0</td>\n",
       "      <td>2618.738669</td>\n",
       "      <td>1890.349956</td>\n",
       "      <td>499.0</td>\n",
       "      <td>1349.00</td>\n",
       "      <td>2110.0</td>\n",
       "      <td>3287.0</td>\n",
       "      <td>18500.0</td>\n",
       "    </tr>\n",
       "    <tr>\n",
       "      <th>2</th>\n",
       "      <td>2974.0</td>\n",
       "      <td>3244.491594</td>\n",
       "      <td>2559.926084</td>\n",
       "      <td>550.0</td>\n",
       "      <td>1729.25</td>\n",
       "      <td>2386.5</td>\n",
       "      <td>3862.5</td>\n",
       "      <td>25180.0</td>\n",
       "    </tr>\n",
       "    <tr>\n",
       "      <th>3</th>\n",
       "      <td>3268.0</td>\n",
       "      <td>6011.758874</td>\n",
       "      <td>4132.583471</td>\n",
       "      <td>741.0</td>\n",
       "      <td>3043.50</td>\n",
       "      <td>4682.5</td>\n",
       "      <td>7884.5</td>\n",
       "      <td>31010.0</td>\n",
       "    </tr>\n",
       "    <tr>\n",
       "      <th>4</th>\n",
       "      <td>1584.0</td>\n",
       "      <td>9883.607955</td>\n",
       "      <td>5323.346121</td>\n",
       "      <td>1196.0</td>\n",
       "      <td>5784.50</td>\n",
       "      <td>8867.0</td>\n",
       "      <td>13137.5</td>\n",
       "      <td>54430.0</td>\n",
       "    </tr>\n",
       "    <tr>\n",
       "      <th>5</th>\n",
       "      <td>286.0</td>\n",
       "      <td>10454.332168</td>\n",
       "      <td>5297.513681</td>\n",
       "      <td>2508.0</td>\n",
       "      <td>6081.75</td>\n",
       "      <td>9579.0</td>\n",
       "      <td>13997.5</td>\n",
       "      <td>28490.0</td>\n",
       "    </tr>\n",
       "    <tr>\n",
       "      <th>6</th>\n",
       "      <td>68.0</td>\n",
       "      <td>8996.088235</td>\n",
       "      <td>4982.510159</td>\n",
       "      <td>2176.0</td>\n",
       "      <td>5315.75</td>\n",
       "      <td>8528.5</td>\n",
       "      <td>10540.0</td>\n",
       "      <td>30660.0</td>\n",
       "    </tr>\n",
       "    <tr>\n",
       "      <th>7</th>\n",
       "      <td>36.0</td>\n",
       "      <td>9966.638889</td>\n",
       "      <td>4424.066049</td>\n",
       "      <td>2767.0</td>\n",
       "      <td>6487.50</td>\n",
       "      <td>9467.5</td>\n",
       "      <td>12817.5</td>\n",
       "      <td>20230.0</td>\n",
       "    </tr>\n",
       "    <tr>\n",
       "      <th>8</th>\n",
       "      <td>11.0</td>\n",
       "      <td>10857.272727</td>\n",
       "      <td>6504.786793</td>\n",
       "      <td>4566.0</td>\n",
       "      <td>6487.50</td>\n",
       "      <td>9121.0</td>\n",
       "      <td>12465.0</td>\n",
       "      <td>27580.0</td>\n",
       "    </tr>\n",
       "    <tr>\n",
       "      <th>9</th>\n",
       "      <td>1.0</td>\n",
       "      <td>12780.000000</td>\n",
       "      <td>NaN</td>\n",
       "      <td>12780.0</td>\n",
       "      <td>12780.00</td>\n",
       "      <td>12780.0</td>\n",
       "      <td>12780.0</td>\n",
       "      <td>12780.0</td>\n",
       "    </tr>\n",
       "    <tr>\n",
       "      <th>10</th>\n",
       "      <td>3.0</td>\n",
       "      <td>9178.666667</td>\n",
       "      <td>3218.475623</td>\n",
       "      <td>6050.0</td>\n",
       "      <td>7528.00</td>\n",
       "      <td>9006.0</td>\n",
       "      <td>10743.0</td>\n",
       "      <td>12480.0</td>\n",
       "    </tr>\n",
       "    <tr>\n",
       "      <th>13</th>\n",
       "      <td>1.0</td>\n",
       "      <td>15900.000000</td>\n",
       "      <td>NaN</td>\n",
       "      <td>15900.0</td>\n",
       "      <td>15900.00</td>\n",
       "      <td>15900.0</td>\n",
       "      <td>15900.0</td>\n",
       "      <td>15900.0</td>\n",
       "    </tr>\n",
       "  </tbody>\n",
       "</table>\n",
       "</div>"
      ],
      "text/plain": [
       "        count          mean          std      min       25%      50%      75%  \\\n",
       "rooms                                                                           \n",
       "1      2449.0   2618.738669  1890.349956    499.0   1349.00   2110.0   3287.0   \n",
       "2      2974.0   3244.491594  2559.926084    550.0   1729.25   2386.5   3862.5   \n",
       "3      3268.0   6011.758874  4132.583471    741.0   3043.50   4682.5   7884.5   \n",
       "4      1584.0   9883.607955  5323.346121   1196.0   5784.50   8867.0  13137.5   \n",
       "5       286.0  10454.332168  5297.513681   2508.0   6081.75   9579.0  13997.5   \n",
       "6        68.0   8996.088235  4982.510159   2176.0   5315.75   8528.5  10540.0   \n",
       "7        36.0   9966.638889  4424.066049   2767.0   6487.50   9467.5  12817.5   \n",
       "8        11.0  10857.272727  6504.786793   4566.0   6487.50   9121.0  12465.0   \n",
       "9         1.0  12780.000000          NaN  12780.0  12780.00  12780.0  12780.0   \n",
       "10        3.0   9178.666667  3218.475623   6050.0   7528.00   9006.0  10743.0   \n",
       "13        1.0  15900.000000          NaN  15900.0  15900.00  15900.0  15900.0   \n",
       "\n",
       "           max  \n",
       "rooms           \n",
       "1      18500.0  \n",
       "2      25180.0  \n",
       "3      31010.0  \n",
       "4      54430.0  \n",
       "5      28490.0  \n",
       "6      30660.0  \n",
       "7      20230.0  \n",
       "8      27580.0  \n",
       "9      12780.0  \n",
       "10     12480.0  \n",
       "13     15900.0  "
      ]
     },
     "execution_count": 100,
     "metadata": {},
     "output_type": "execute_result"
    }
   ],
   "source": [
    "df_updated_1.groupby('rooms')['total (Reais)'].describe()"
   ]
  },
  {
   "cell_type": "markdown",
   "metadata": {},
   "source": [
    "We can see a growth of average price in the first 4 values for rooms, after that, it tends to go up and down"
   ]
  },
  {
   "cell_type": "code",
   "execution_count": 101,
   "metadata": {},
   "outputs": [
    {
     "data": {
      "text/plain": [
       "<matplotlib.axes._subplots.AxesSubplot at 0x24552dd3f48>"
      ]
     },
     "execution_count": 101,
     "metadata": {},
     "output_type": "execute_result"
    },
    {
     "data": {
      "image/png": "[encoded data removed]",
      "text/plain": [
       "<Figure size 864x432 with 1 Axes>"
      ]
     },
     "metadata": {
      "needs_background": "light"
     },
     "output_type": "display_data"
    }
   ],
   "source": [
    "plt.figure(figsize=(12,6))\n",
    "sns.boxplot(x='bathroom',y='total (Reais)',data=df_updated_1)"
   ]
  },
  {
   "cell_type": "code",
   "execution_count": 102,
   "metadata": {},
   "outputs": [
    {
     "data": {
      "text/plain": [
       "<matplotlib.axes._subplots.AxesSubplot at 0x24553075f48>"
      ]
     },
     "execution_count": 102,
     "metadata": {},
     "output_type": "execute_result"
    },
    {
     "data": {
      "image/png": "[encoded data removed]",
      "text/plain": [
       "<Figure size 432x288 with 1 Axes>"
      ]
     },
     "metadata": {
      "needs_background": "light"
     },
     "output_type": "display_data"
    }
   ],
   "source": [
    "sns.barplot(x='bathroom',y='total (Reais)',data=df_updated_1)"
   ]
  },
  {
   "cell_type": "code",
   "execution_count": 103,
   "metadata": {},
   "outputs": [
    {
     "data": {
      "text/plain": [
       "<seaborn.axisgrid.FacetGrid at 0x2455310df08>"
      ]
     },
     "execution_count": 103,
     "metadata": {},
     "output_type": "execute_result"
    },
    {
     "data": {
      "image/png": "[encoded data removed]",
      "text/plain": [
       "<Figure size 360x360 with 1 Axes>"
      ]
     },
     "metadata": {
      "needs_background": "light"
     },
     "output_type": "display_data"
    }
   ],
   "source": [
    "sns.lmplot(x='bathroom',y='total (Reais)',data=df_updated_1)"
   ]
  },
  {
   "cell_type": "markdown",
   "metadata": {},
   "source": [
    "On the other hand, the average price goes up with each bathroom added, except when we reach 9 bathrooms. With the regression line, we can prove that."
   ]
  },
  {
   "cell_type": "code",
   "execution_count": 104,
   "metadata": {},
   "outputs": [
    {
     "data": {
      "text/plain": [
       "<matplotlib.axes._subplots.AxesSubplot at 0x245530ff948>"
      ]
     },
     "execution_count": 104,
     "metadata": {},
     "output_type": "execute_result"
    },
    {
     "data": {
      "image/png": "[encoded data removed]",
      "text/plain": [
       "<Figure size 864x432 with 1 Axes>"
      ]
     },
     "metadata": {
      "needs_background": "light"
     },
     "output_type": "display_data"
    }
   ],
   "source": [
    "plt.figure(figsize=(12,6))\n",
    "sns.boxplot(x='parking spaces',y='total (Reais)',data=df_updated_1)"
   ]
  },
  {
   "cell_type": "code",
   "execution_count": 105,
   "metadata": {},
   "outputs": [
    {
     "data": {
      "text/plain": [
       "<matplotlib.axes._subplots.AxesSubplot at 0x245533aeec8>"
      ]
     },
     "execution_count": 105,
     "metadata": {},
     "output_type": "execute_result"
    },
    {
     "data": {
      "image/png": "[encoded data removed]",
      "text/plain": [
       "<Figure size 432x288 with 1 Axes>"
      ]
     },
     "metadata": {
      "needs_background": "light"
     },
     "output_type": "display_data"
    }
   ],
   "source": [
    "sns.barplot(x='parking spaces',y='total (Reais)',data=df_updated_1)"
   ]
  },
  {
   "cell_type": "code",
   "execution_count": 106,
   "metadata": {},
   "outputs": [
    {
     "data": {
      "text/plain": [
       "<seaborn.axisgrid.FacetGrid at 0x2455348a3c8>"
      ]
     },
     "execution_count": 106,
     "metadata": {},
     "output_type": "execute_result"
    },
    {
     "data": {
      "image/png": "[encoded data removed]",
      "text/plain": [
       "<Figure size 360x360 with 1 Axes>"
      ]
     },
     "metadata": {
      "needs_background": "light"
     },
     "output_type": "display_data"
    }
   ],
   "source": [
    "sns.lmplot(x='parking spaces',y='total (Reais)',data=df_updated_1)"
   ]
  },
  {
   "cell_type": "markdown",
   "metadata": {},
   "source": [
    "The same that happened to with the rooms column, happened to parking spaces, but the regression line also shows that the higher the amount of parking places the higher the price."
   ]
  },
  {
   "cell_type": "code",
   "execution_count": 107,
   "metadata": {},
   "outputs": [
    {
     "data": {
      "text/plain": [
       "city\n",
       "Belo Horizonte    4537.334661\n",
       "Campinas          3174.164319\n",
       "Porto Alegre      2964.816275\n",
       "Rio de Janeiro    4532.587725\n",
       "São Paulo         6250.796702\n",
       "Name: total (Reais), dtype: float64"
      ]
     },
     "execution_count": 107,
     "metadata": {},
     "output_type": "execute_result"
    }
   ],
   "source": [
    "df_updated_1.groupby('city')['total (Reais)'].mean()"
   ]
  },
  {
   "cell_type": "code",
   "execution_count": 108,
   "metadata": {},
   "outputs": [
    {
     "data": {
      "text/plain": [
       "<matplotlib.legend.Legend at 0x24554646b08>"
      ]
     },
     "execution_count": 108,
     "metadata": {},
     "output_type": "execute_result"
    },
    {
     "data": {
      "image/png": "[encoded data removed]",
      "text/plain": [
       "<Figure size 864x432 with 1 Axes>"
      ]
     },
     "metadata": {
      "needs_background": "light"
     },
     "output_type": "display_data"
    }
   ],
   "source": [
    "plt.figure(figsize=(12,6))\n",
    "plt.xlim(0,20000)\n",
    "sns.distplot(df_updated_1.loc[df_updated_1['city']=='Rio de Janeiro']['total (Reais)'], label='Rio de Janeiro', hist= False)\n",
    "sns.distplot(df_updated_1.loc[df_updated_1['city']=='São Paulo']['total (Reais)'], label ='São Paulo', hist=False)\n",
    "sns.distplot(df_updated_1.loc[df_updated_1['city']=='Belo Horizonte']['total (Reais)'], label ='Belo Horizonte', hist= False)\n",
    "sns.distplot(df_updated_1.loc[df_updated_1['city']=='Campinas']['total (Reais)'],label='Campinas', hist =False)\n",
    "sns.distplot(df_updated_1.loc[df_updated_1['city']=='Porto Alegre']['total (Reais)'],label='Porto Alegre', hist =False)\n",
    "plt.legend()"
   ]
  },
  {
   "cell_type": "markdown",
   "metadata": {},
   "source": [
    "This dataset was useful to train on some pandas and data visualization skills, however there is not much to conclude from it."
   ]
  },
  {
   "cell_type": "markdown",
   "metadata": {},
   "source": [
    "Este dataset foi útil para praticar pandas e visualização de dados, porém não há muito para concluir."
   ]
  }
 ],
 "metadata": {
  "kernelspec": {
   "display_name": "Python 3",
   "language": "python",
   "name": "python3"
  },
  "language_info": {
   "codemirror_mode": {
    "name": "ipython",
    "version": 3
   },
   "file_extension": ".py",
   "mimetype": "text/x-python",
   "name": "python",
   "nbconvert_exporter": "python",
   "pygments_lexer": "ipython3",
   "version": "3.7.6"
  },
  "varInspector": {
   "cols": {
    "lenName": 16,
    "lenType": 16,
    "lenVar": 40
   },
   "kernels_config": {
    "python": {
     "delete_cmd_postfix": "",
     "delete_cmd_prefix": "del ",
     "library": "var_list.py",
     "varRefreshCmd": "print(var_dic_list())"
    },
    "r": {
     "delete_cmd_postfix": ") ",
     "delete_cmd_prefix": "rm(",
     "library": "var_list.r",
     "varRefreshCmd": "cat(var_dic_list()) "
    }
   },
   "types_to_exclude": [
    "module",
    "function",
    "builtin_function_or_method",
    "instance",
    "_Feature"
   ],
   "window_display": false
  }
 },
 "nbformat": 4,
 "nbformat_minor": 4
}
